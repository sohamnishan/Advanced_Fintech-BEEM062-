{
 "cells": [
  {
   "cell_type": "code",
   "execution_count": 1,
   "metadata": {},
   "outputs": [
    {
     "name": "stdout",
     "output_type": "stream",
     "text": [
      "Requirement already satisfied: fredapi in /home/soham/.local/lib/python3.8/site-packages (0.4.2)\n",
      "Requirement already satisfied: pandas in /home/soham/.local/lib/python3.8/site-packages (from fredapi) (1.1.4)\n",
      "Requirement already satisfied: python-dateutil>=2.7.3 in /home/soham/.local/lib/python3.8/site-packages (from pandas->fredapi) (2.8.1)\n",
      "Requirement already satisfied: pytz>=2017.2 in /home/soham/.local/lib/python3.8/site-packages (from pandas->fredapi) (2020.4)\n",
      "Requirement already satisfied: numpy>=1.15.4 in /home/soham/.local/lib/python3.8/site-packages (from pandas->fredapi) (1.19.4)\n",
      "Requirement already satisfied: six>=1.5 in /usr/lib/python3/dist-packages (from python-dateutil>=2.7.3->pandas->fredapi) (1.14.0)\n",
      "Note: you may need to restart the kernel to use updated packages.\n"
     ]
    }
   ],
   "source": [
    "pip install fredapi"
   ]
  },
  {
   "cell_type": "code",
   "execution_count": 2,
   "metadata": {},
   "outputs": [],
   "source": [
    "import pandas as pd"
   ]
  },
  {
   "cell_type": "code",
   "execution_count": 3,
   "metadata": {},
   "outputs": [],
   "source": [
    "from fredapi import Fred"
   ]
  },
  {
   "cell_type": "code",
   "execution_count": 4,
   "metadata": {},
   "outputs": [],
   "source": [
    "import json"
   ]
  },
  {
   "cell_type": "code",
   "execution_count": 5,
   "metadata": {},
   "outputs": [],
   "source": [
    "import requests"
   ]
  },
  {
   "cell_type": "code",
   "execution_count": 162,
   "metadata": {},
   "outputs": [],
   "source": [
    "import datetime"
   ]
  },
  {
   "cell_type": "markdown",
   "metadata": {},
   "source": [
    "# 1.1. Extracting Information from my own transaction"
   ]
  },
  {
   "cell_type": "code",
   "execution_count": 155,
   "metadata": {},
   "outputs": [],
   "source": [
    "answer2 = requests.get(\"https://api.whatsonchain.com/v1/bsv/main/block/height/668416\")\n",
    "bitcointransfer_block = json.loads(answer2.text)\n"
   ]
  },
  {
   "cell_type": "code",
   "execution_count": 156,
   "metadata": {},
   "outputs": [
    {
     "data": {
      "text/plain": [
       "{'hash': '000000000000000005852a48b413a006086edb0ffc1c80a0cf2e71fb1146636e',\n",
       " 'confirmations': 23,\n",
       " 'size': 218998,\n",
       " 'height': 668416,\n",
       " 'version': 536870912,\n",
       " 'versionHex': '20000000',\n",
       " 'merkleroot': 'e1e100752286e5fa7a50a1b3c6c56bd904f5f4b1bd4bf917bd25469fb0ca18d9',\n",
       " 'txcount': 414,\n",
       " 'tx': ['b56ac266b2ce55b2d7e6d6011556e79949cc0059f24633dbe15f096a59892d63',\n",
       "  '786e8ce2778bfd53f3a66bca4e2c4ec68ac75148334d72bb19813e250902ce1b',\n",
       "  '16cd061cdc793dacad62ecb0ae25e443e2f93c1cbfaf3d7c0c0c0a9b5212d166',\n",
       "  '93cd0b3e2f878dfabc83f9d08f4fba4e0b492ae8c56ec2dc1adeec4f9e215e45',\n",
       "  '6e3171247e8d99316c1fd811ea5994c85cdfd7bec2501073f50c1653010fb3fc',\n",
       "  '6074f8924e4274cd2d209f071248e0492df2df36b91950fa091f82093ed061b4',\n",
       "  'd5de86d477305546cf8acc683d1e30133dc2f932c86747bcfbfdc02a3ee34725',\n",
       "  'ba3a4bd95c123f8ace005535434ca3a2c7d0c23f662ed8fb4b8d2e7481ef251e',\n",
       "  '6428225ecb0d7530de9d8d12a479ce2bc41a44e3d2973885ed8db10895814cae',\n",
       "  'c4d7d87afddc2c591d09b483ee887f8e48a96ff7bd925603546a8071b13c76d2',\n",
       "  '183ca0f040a5e9c5c3c51c482d4b71dbc8c446bd0c451468ff2277d8b8ac8884',\n",
       "  'bc11c7dc13922405df4a2aea94107237375071cf4c291630414e9a7e65601823',\n",
       "  '16394d968523ded4763311f2308cea0ec02db80185d8721412a7211ba3426293',\n",
       "  '6fd6f9fe0c2c6460b053415c69d84eebd0d7a2bd9bc0f3e5d3c6cded1c2c0246',\n",
       "  'b9996b9a4ff076463c9d21477364157c2ad609ad923738eac8d3df146a7674dd',\n",
       "  '5ded8a5c9b8101e61e2618cb30b2adf50bf28fb9f7f3de54c0ccc1eaf420b882',\n",
       "  '17ffa05e69fcc4cccc59c9236f51121ff8562a540a643a7a5302e5f324358be2',\n",
       "  'f2b1b99d6e6ac4fe8e8c85c807a447654c751ed35453a84c7444b57a0280a23c',\n",
       "  '8a7927b10ce6320f7e013bc6993f9ade0fe3b9c81f9787b0e402ab13453616bc',\n",
       "  '4717de05cf9821e861db156b62b681f4c93e02c2a3bad009e5d595fd8b62bccd',\n",
       "  '4706b25525e5d1ec3c5a539c88a87e706bc5b926de0fc2e30e10cd3dd30a119d',\n",
       "  '24a33dbe4b95e12fc1df1f78bd6b359268ea29d6c6fe9d65c5d058868ad89953',\n",
       "  'e0f77c897cbee83999ace3abf89c00d286799d87f7dd24254031a3c38670105e',\n",
       "  '700253a7730b043b2d11025e546dd301ca93a5230eaa164c67e5fc84bd251b9f',\n",
       "  '62a3e447a40764e970af19f109c1f2bea3ec1cecb3bda8f0cc89d590f3fa2ed1',\n",
       "  '3518f282c07b45a61edc2e6e6c6646a6a5972da7b1dcc3d8d0242e6fcefb5ffe',\n",
       "  'a1612d53e97400a01c641165d04d18c546f720da4a88c3f721a7557490d2fde0',\n",
       "  'ee6b5beef2458dceb228cc4c7e355c694dfe3c3317883be8f8f0f998ae3efe9d',\n",
       "  'f5083d39662587a0a0ee85550a159347b12718db14aab6806a080c88eed966e9',\n",
       "  'add1fa082b9bf3f69817974afb4ecb4d64d6184f64f04ca3d18f468b8a5820d8',\n",
       "  '0194072fee4f80be55ce39cbc1aff26e12760c7c18911c5671e4d821a3d8ae38',\n",
       "  '01463aa53bb38e9a82a108e43315a14c4dd842ee4d0dbebba0acc03df809c40a',\n",
       "  'f36b3d59a2e9320b44194373b9ea6379dd2d196304af0791a098cce3be3c3186',\n",
       "  '26f33327bcdec7c8a0c34c7bebac18d13a4cdd0863f842ddeedb8232ac6de1e7',\n",
       "  'c00e5fbad4be8879c62cd65e3b5f5a1c0aa4e93dfdbf03a071b87bce096932cd',\n",
       "  'd32052240ab539e33fb7eec2a08172b9335f290d27f2739214a6b9dce718e796',\n",
       "  'b9c7ba699ea316606d8a40fa17b651cbfc88d9ae2e6a2c6cc14f79c93ba7f562',\n",
       "  '0aa0b1a5ebfc5c1dc552e412fe51608a3e26df51ffb10fe41a37ccb90fd3c91b',\n",
       "  '5bb4f49c02e79e3cecb22d1d90bdb4b0a83a1dd7a0e422cdd8bdbd57e7c0ba39',\n",
       "  'c77bf49f498ffae8fad40fedaf0864376fe422e7af6adc0f61c4fa0a6005bb3b',\n",
       "  '69de40fd78a0775383fea3eb70dfb6cecb88fa7fb7d67204395b9cfab502777b',\n",
       "  '9b86fc4d7ba96eb4732d0392494ab11c3ab3e5635f04700a84d1296b4cc401ff',\n",
       "  '46d5fe3b9c6ed3c000f30f6617e8b5a89c0017bcaa7bb0b27c30ba9ee07994fe',\n",
       "  '194596954cd56e1d22612f933b777d254c34f28247fd8661b14044233c24d3de',\n",
       "  'c164377696c42c2ff63605412471d21f16e4f7fa6462670e25f9379d8294ead8',\n",
       "  '4e029c316b32cca535ba3152121802f8eeb281b5ec919d77e1ed3e19b677da65',\n",
       "  '3626345858f6709c4f842c75624aa19b23319e155c3e3aaacecc520c35219d2f',\n",
       "  '29386e9bc3ae976a959dae8a1b7a857dff5c439cbd6835b14f89bd3370a870de',\n",
       "  '30dcc4e268893be5acf1a9c0e8ccaafda97e42756c2b9addb1b9d1c44504c537',\n",
       "  'c69490b4192d5a45d1e8877bbd4af15841801fdf6178138f141872d3f6038ad6',\n",
       "  '241a6c85f3fbba6279bd1741fa4b83780c013e841270553e94fb9e34e3bf8ad6',\n",
       "  'c6d3796f303ac3bce7ee3e1412077e7875e3cc76d8137ad84343193819da8a7f',\n",
       "  'ae1c9e4a0f0b272175261c0325208a4d7fdbdf9a74abf1a49518e70209076e09',\n",
       "  '553b739cc708210410d5435e528bd1948140cdd59a426d29e4f4e00827acaabf',\n",
       "  '47b1f052b94a229515cb5a68651f3b774d73607e901c7e2cb6db0b513f901ca3',\n",
       "  'a81bd4d77921b28bc9fea95b656056a6b85b1bbbf6cd775d4f03a51bab797615',\n",
       "  'f5e8275e765384731834cea066ee7a40c81320b6dd15b4dbcbe876d779a2040d',\n",
       "  'c75a950112e9fb4753315fb71509cba5c956aa40a970f42e5b692f95dc96923c',\n",
       "  '09e0f63fc68382ff5386a1006bc3271ce34712c3a46d27efc410678cd8b9411c',\n",
       "  'c607e562a127752b7580657a89c93e83c52c03f7c280180c7c94f947c7ac851a',\n",
       "  'cc37f5167baf2d5529b68a8d672253e2d516e5690adb0b9fadbeb749420b645c',\n",
       "  '41881d42e4299b9e51b6e18b738e63968661cba0da25f69a794d511892d83734',\n",
       "  'ca551b8e6444619c7363cdef59505417b35bf523096fe49a0052e6c5a0b85917',\n",
       "  '2bc59e66308958078b509ac4e1b71082da7a0b21b2075739882700ee8618b355',\n",
       "  '458dcf891d855b46ecd6310e31bea7c0882835fc4a6c3db64135ce850b256889',\n",
       "  '8845b413d16fa3d7a5038f65a21d50181d19ef581cf2644258fa50982ed47a96',\n",
       "  'f0ee08c77ae3c0a13bf723b73d5a0bb5cc82b1a1af5737b8830d0dc393b8fac9',\n",
       "  'a5974bc02a3b412ab13fca78f40b3b9507c329b76ab5f70ad1449faa4c7c681a',\n",
       "  '6f3e6d4491a72e58dec36ab0f67801163b88d9bf93dda98bab36816a1c7c008f',\n",
       "  'cd72a7d14b0c2c8b567420c9282d38261abc17af3b0aac96920939dbbf9050b9',\n",
       "  '8f1ff56a16c8e81a9e51d871a577836f14fcadc421bb303e3436dbece13afad7',\n",
       "  'd73f09b987ec907ae2a04146d23838f45f25ec97ed5d38b729baf8d0106dbfff',\n",
       "  '592c99f96f51c0dbb573a36ab2bcee3de453cfde1740bf7345d50aafa9dd36b8',\n",
       "  '4e0e1edac8066fb69711af61924e219c38a1b9e4bbc30a885cff44e22d6ff812',\n",
       "  '55519ebf0c98929d182b1d82cb2b43fb0c164018001f644fb064f994e3b14d2a',\n",
       "  '92b2ac361975308a55fc0e5e7d42a4ff64544781806c989c4ff8e8ca3b3de391',\n",
       "  'c5a80ea501ad115ca7c2e49125c5e9dd8a37624ecad73734e37acaee73ac03f9',\n",
       "  '801f72e5eea03a27eb76f4ff3ee7c0d2cbf7195c8dfd8935e7490b144dd47da5',\n",
       "  '483706fa3f1eb270b8701632cdbec400698ad8fffc6240ba46947945d55be448',\n",
       "  '8927acbd697878e04ab09a24f11550aa45f37d6a32af2a52440b9cab05092430',\n",
       "  'da577074255e5d30f2e3ec17cf817656701f33302bca418c886521b79a5f1791',\n",
       "  '714bb6b065c38aaeecc4754ae67813f88821bf09897a6f7bfb84882d7c81d647',\n",
       "  '0eb0ceaa3aa2a857d19eab7f405ebb2ae1f27f5a9a614efdb9cbd3b74bb1f14d',\n",
       "  '1590dfd5568a703535dbdd80843de0b792ab35bec210e7ea0fa938ba61acb1be',\n",
       "  '98358bc6132462a0eee4e2d3b1d283fac6639a2c09ce87c1f152cc839e26b5a9',\n",
       "  '070e32276e696c0560dc8a0564f1f9d9d1013bd3f572057add0e9e963682185f',\n",
       "  '6d5badb973f14ffaecad63dace4a825ffa91276dc37c61952bc4222851532633',\n",
       "  '5994ff0a4e94f34a3264bc938a22037a89f8856783a6e81e97949bd7af5da668',\n",
       "  'dc61094a5b95e38ac3d00ac40b3c296ff79aaa88ccc251b66d2097bbb97cbbe2',\n",
       "  '7a157bd596f8c9cac727d7572587ffbc470ea3cf0e8d77784de0f40be69f8b29',\n",
       "  'b7b3750ea5bfbbde11ee75a3caf48d27133c0ac5ed339a1fa7cf28fad93059ec',\n",
       "  'ef5ddea868acd2477c6c1fa9f7fb772e6a07788836b13287dadc81dba82673f8',\n",
       "  '6e3fcdbc93b94422048141bcba9a6fde6e658fcd69e77d5f8e25fc5033d891c8',\n",
       "  'eaaf2f47a3528da05f7da197a9970c503dc035654011db0fa0873a425778ef70',\n",
       "  '6957857cb3b5aef193f63b3f4560d6df8915432faecdf2cbbd621cfa025c46bf',\n",
       "  '13e93601040cb43eb6c38dc4cf32ab468ac21fef300cb2aae624346d477f91d0',\n",
       "  '2497fe765eb43ef3b4f80af97e307b0d9a608883fdc641789fa034232025612d',\n",
       "  '4c6cee8c86943092812c098f2664b2f209c5d73e73a3a436ffabbf8eb671760f',\n",
       "  '1519d270482baaae71dd5298f85ed26577c7871941a070532c0c1264c9b6006e',\n",
       "  'cb2e8425e772a7165204ce92bc2775471f16e2414b6c7a6536f2919de737e2dc',\n",
       "  'bc7079e03d87ba6497eb1dd5b71831c3717787ed2ac95540a228f853d4193d85',\n",
       "  'e51b78f298cdb2fd51361be44a7f1cb11f68c928149e09a1e90fdd16cba25a1a',\n",
       "  'b33e008e30f7a7bbd4eec512a311cc0176eec1e8bb68903a9d101c642609f227',\n",
       "  '222e8798cc36d777091cf77ac74aabfe36786f7262d311910c319fdb9b5b58c3',\n",
       "  '7b49218a95e55e38776dbcfde691f3d134af173f37f4a38c8a78a3543838c296',\n",
       "  '91fd884824c66f2493ecf1e11e3542f6e4e60a7111380fdf662cddc4f25a32a0',\n",
       "  '499ffb9c51496a121631a39f2023e5439d3d78c22b5cbb9e935b2e1d2941606f',\n",
       "  'e2e7e5fbb6275db13328f2bad97775e96904b61a3fa5d72340b2026742b1718f',\n",
       "  '81fe7181e4e46cbb42f4169ea53fef06a3b4a95349d284239261161f26d7de41',\n",
       "  'ae3ad3aa5e6df8653f9b65493481a689aa70c25befe0dd557165bdf7d1abe45b',\n",
       "  '006e09eb87a6627e7f650fd145a56e84154cefa9feab99db413cc35915e27673',\n",
       "  'a74dbbac5cf3876f09e5e81d96164d9b971127460d12bfde547c2debbb949b41',\n",
       "  'a039465fc4d2c5a6e96093d5091755ac4f26a6c177a36ceaef7388d1148dab20',\n",
       "  '89b700ffe92b7ff193376355d1a7a21413c6f531a0ead82b103da879334c1c43',\n",
       "  '3d5763fd1a3095dfc278b447f7038fde59ca3063c4f4ddb8388d51051409bcf1',\n",
       "  '6fa59570f8c2a6e7e1de68d35d2771eb89831ba0cd88ccfd706c5c1794207722',\n",
       "  'c8f745bd5ce07edacca2037d542d88a17ccf05ba6a8e39fcbc3fc19f83b84020',\n",
       "  '568e06193cd694cca7266f38da20c35e9690bc453c65214b5a79227c0b99a57c',\n",
       "  '1ccc0be3c93cd5e8b9fb7c4d8156b2d212b82b92e4dc422f8d776bd0ddfc04ce',\n",
       "  '2830329e9e775e974bef40e7e3bdcf0ec460de62eae589efda45a83fc26e1242',\n",
       "  '4c5f747fc878024dce2ef56077ab8a2087525cec6c3a13568eefca12bb68c592',\n",
       "  'ffbc24a42e2efadfea2c70c17268a0aca03cd79acc11d0e624ec2138f05a6f77',\n",
       "  '063d3613cfb4788a66e1edb21aa77f264229723f6ea83769ae502e6585c533aa',\n",
       "  '2d9c7cffdcbdda23601087010740aff84c901e15544aa3bbe869765f5e8398f2',\n",
       "  '454b6c5b94c0070eaa3525771fc797b256843b9b75ebcbd5ad026e2d0c7ce295',\n",
       "  '30426e1bb26920858ecca2e4faa402708db640023ffef8393f2eb7b69324fa88',\n",
       "  'a32e20a64bb40ae11c9a86fd1b077005f7b83edb6da6efe4a2a9f690b1b9efd5',\n",
       "  '73b1c8451962f97100bc99cef2a1c4bf16196ad24544e490d771d6c3c7e9adf4',\n",
       "  '4a6dd7686957ae094b025d7e2954e72b04a44c09c6a0e213cc9188410d1e703b',\n",
       "  'ea390647f994f60ae5eb6086f8c8d9d2c59afdb901dc4a6e761a219e9c3b4696',\n",
       "  '931c8926d89329517dc23794bf01bb669b3611acb57e13af5bc970dedc52f9b8',\n",
       "  '492716f509df9b7b7529853f8ae15e44f13bec263e09a723f1d4c12970adadf1',\n",
       "  '0ef8a85b6b43bd702fc9be13ba6953e1f724da38063129d9761a42302867cc7b',\n",
       "  '9bbdacc6214d14352a7aec688966e717d3b333c87f5077efc51efde1a85024ea',\n",
       "  '3ef76c41cd48dc442c40f059250b54587d36abd78dd58077565d7afec91a6582',\n",
       "  '8436667f16520b93066dbb35af692570420377ec17e176fc959fcc66de86a1f9',\n",
       "  '4264b30fa0677aa6dcae94307892c55badbe6f6608598557cebe3d96c9e6ebb6',\n",
       "  '8b64c8dbd3f9d9be4f92b46a9eab53627be236e90bf45c6e5ce64b82be04224a',\n",
       "  '9b359fdc0295af403f32a03a5457f5eb3d726e7998402841ad021f5fc6c4db5b',\n",
       "  'b87078fb9b8913f4cf3648bfaf8bca0d9caa790e1dbd6cc42f8a2ed2bb6cd2ae',\n",
       "  '7010cbe212d687a0f9023a0ea1652c06a49b06e9ed8e993a1cc0588ec79abd9b',\n",
       "  '273626814723996f58ecb82fc39ba5fea4d11e721e74e8282bf0c637eb25cf8d',\n",
       "  'bf8423b49b3109456d5e68bb588e851195038e8781e9f6d0386cb289d61a29d0',\n",
       "  '0d400db28d2b4420feb41ff77995cf00a9e99b22b306cdfa9adab7be2e37b2c0',\n",
       "  'b29c67be8d63704505f71769ce06fd7928cec920329b84d15f1f5012ee4455ab',\n",
       "  '8e456ec8676985de78d0ebad66f27eb1130fc80d909ac85bc93812443764ed42',\n",
       "  '1aeed11d034ab13776955766518365b0de8003111b076a6e071fbcc4d00a1b27',\n",
       "  '71f41e4fafa85b933714b6db090adb0a17bdd7343fd4ce221b16ac31b2f137e4',\n",
       "  '9d6aeca269d19ca9034f48c2a5dec83b26753d64e7b637d72263fceda7c0a61c',\n",
       "  'ac768b6325551b671b2773b75450a369c278752c3f9cdcab3f8ba24118dda033',\n",
       "  '896bfdfcf466a542267e88875d5bc9f05c58f10a763a87f214230e491b7c4dd3',\n",
       "  'a5009bd9669c23d0d2758372074f207baae1b552d1323c88ac425e3aa3441183',\n",
       "  '26c244414754317a33c21caf2c9cdd076aab06c129a59da11af13a381b9cf7e1',\n",
       "  '759572f75f491ec21601bdf6e9c85d0c66df1610f44ee587868b4f1668b17993',\n",
       "  'ea7bd8966d8fecd56aee43b8718562864bebae2e51a13713c26f7815062d59a0',\n",
       "  'd77738a36db0bf3b69a4e7295de7bf1d5c4335408548bd76f4a2ef783b807d05',\n",
       "  '6a98e409bdd001ad327b7c08a0db2894c710ff3484a656567598c7522f49c48f',\n",
       "  'ad02ea29484813e82a73da10232da31c76de9d3e731b6ed6f3d8bd6e919b833f',\n",
       "  '744e8552a378c9269950ceeae5baade33f8237123246f901cbed3fc530475cf9',\n",
       "  '5d8bcc4113aca942d7613970b35f40a0afb1603ef7dde4cdcee1f30155c625b8',\n",
       "  '8aca0f98edecdaae71f4c60760dd46b849b955ebc7cf6397d01004de1cb263d3',\n",
       "  '57856d06ff02967a17a9dfbe117dc230b59bc9436647ad4a2f0f7bb631a0937d',\n",
       "  'de8611a62b1373c3958c41c8a966e2c6df783133fd75c273e1830d066f549704',\n",
       "  'c0479ad601319aa7430bc7b3f483de7268eda43f373d328c7355057b79ab1a2d',\n",
       "  '4bfac89c2443ddd6940ee3b664097f7a254cd535d9325a7226137264c5c28e84',\n",
       "  'eb55467e74befb4beea22fb29c4fda31113e8a4fa42ecfff28a9b3b738e218fc',\n",
       "  'baa13169bb50f59f2e5784214ff6826debb0022f68fa1d073f102fadac454933',\n",
       "  'c9a3175f94736bcd5e20f7542fd7b7560c798340fd884c58229b94159186ee37',\n",
       "  '6e043dd9a185943a22efb27c8fede42f537212134f43023788d1807b0ef399be',\n",
       "  'c5e2d2a9cc07870004be2aebbcbbd2233b6f8d5e6ee1dd45db6bd21585e35e1f',\n",
       "  '4cefc3cc4b008643ea6389fb4597aad8dba7f7d60c131311c7ef78722521f03e',\n",
       "  'de5c7ac619cdc0132188fd0bd8e0cdc81572b68ede8f29b73f90df4d5a0587ab',\n",
       "  'f6a5bd34b17e9aae75a8911ae031a093c1247e88bb326ae7edc3a20a6dac1810',\n",
       "  'b29f140a2e562686226c0532a0b3e392014ec32f1624512e68529edbaae8d5e3',\n",
       "  '8a21e08cc43173531473913a3cc0d81a9e3593dcc56fdbbd255da7399cf940d0',\n",
       "  '0b31e0897575250d2f4363d61b98e0cfae945e85d6c690491c8dc2781a495f98',\n",
       "  'e010b74094dd68881b2590c36ab6074dc291a37be204ba9d4b23185c78ceff63',\n",
       "  '9aa5bb6ee058f18579af202463e1377314cb7454bfc87b697cf51178375dfb15',\n",
       "  '91ddd82cb5b20a8ca73dff577cd7f1ff087a799d0c80cd9164e6cbaa6291dbbd',\n",
       "  '171faaf60801111634db62f90a159ba68c964f63762e915ce4df56202b233ed7',\n",
       "  '00317e2754ba6677824e0db473ca34aa4063e0c8a8987ee7e04c98f7b76b9b11',\n",
       "  '7eb375dd37ce34686e9c583c184e3f74db84d5ccb03fef04d8a279fca2946cc2',\n",
       "  '0dc8453657b8c814cb0899eaa865f946df61589e657706d9495118363a2c7558',\n",
       "  '4d772a76ffd6b7e4eb3618f66a5f98d92eebe9894c9ee9a2acec9f850b0a1a74',\n",
       "  'ce177b5979f7211619bafb3a205f486ad660f32ad0913d68fb9e2a344e3e0af1',\n",
       "  '684e45369a73638bdaa52c0a168847133fe68ae33f65b070dc520c0923659a29',\n",
       "  '840a12a9d6ad76d8c39a3e211217d2a6539abb364fca744d6baad8f2d267d188',\n",
       "  '9368c082e9e16a6ce44e31a3e230e1113f4243429dbc6d82fa078c4f0fd30c9a',\n",
       "  'edd5f0e5cd4cb91b2dfcefbb32407eb70d1d03182545db40cbe470d3c5bbdab8',\n",
       "  '693c88fe81b1b61c0b825bb8864f26b233755e45deb5518eb0849fe56f9faa85',\n",
       "  '0a57e1dc7a8e2e1d60f2972fb1145cb3641ae978156cdfc168e41effd8b8cb56',\n",
       "  '0d4d1a2a2027fe4866714bfef2599d6ea4bcdd209cdd428b646c004e088165d4',\n",
       "  '19f3599c1644ed2437c25d273419ee0a0cd49ea3c3866445ffe64e7eae19202e',\n",
       "  '5953ef1a0bfccf48aa69e9bac37664c4888a6bd0bcd0e769475c4d7a9755b272',\n",
       "  'f5deac64bced6f5e552af3517c016f73ebe9c4300c57c95c578c7f01ba221726',\n",
       "  '69b6be7bb9794ed154149ca02944fa060dbae325c52e7dcc602b4a16687d18af',\n",
       "  'a5763bfc60c4798b0743b9218ae9d25402e57aa779493cfb88a18f3c77b233b0',\n",
       "  'a44e5a7093df8e5f4a72d8610879e0d886e9bbebd517a11c6aea2d9089e9cd24',\n",
       "  '26815906c5e341c8c96f89c8bc93e03cfe7d752943d6fd5678f8fb2d485ebc40',\n",
       "  '17488bc29a06354c1b732d84559644b4cff932f1c8fd68b8244958998eb836cc',\n",
       "  '70674c14dcd51033fd0aadc28d5dbd13c6663d59e4d254d899972403b56b0336',\n",
       "  '36111766e9953dbf17dc0417b1bb3acf464fc76eeb40465059677e3ca6b55a05',\n",
       "  'd343dc70e990a67523a471b5fcb2ec62ddae7f5d2ac1a485908fe750e6483da9',\n",
       "  '3e542d3f4adbdebcb3bb177d0fe8a406fb6b891fdc173d85c552922ff9bb0f04',\n",
       "  '881cc0f328c43ddea7dee97c93866bb71425f310d8484717023e0d1affcbb357',\n",
       "  '2e633d53257bb53a2f18b16692b6b240fa263bd59a44a8480bf25170daccb8b0',\n",
       "  'cd5f25260115a4a3071294cf2c01c92bff41eb6aa20b65af46e1426350f4aab8',\n",
       "  '0e5747c36bfd4750ceab8ae50eb8242d2e032753e56e7cea4baf85f40ef33ee5',\n",
       "  '756a7cd88113b9305ad8506c7acb020602f835cf8d58969aafbe5d057c2f72d4',\n",
       "  '42a63dc19065110145ee58342007b5b5b55db125d3d488760e8a2b1c145b9310',\n",
       "  '66ff3a1d09c6fabe60751b2ef29c4d4f9c2ca269f8378e3a428a311227c5c274',\n",
       "  '4d6c6709829be9ba69622246a6cb1a79f30c26639472bcd17a84ab861be3aa38',\n",
       "  'c3c725187c0c312aae845b29722d900477889a2a256abc2e20d9f5bbc8576735',\n",
       "  '605a66fb668e80bc7ae994081ba029d419de3100ef26049da11eba26228916f1',\n",
       "  '12b14009de6f768ad1dcb6df476a07077b3121965b6c49be80594b693040b1ff',\n",
       "  '96b08839e2aa7bc96275ecd7d5eee1b58d611a8b9c60e1434aa2f14465be008c',\n",
       "  'c3af1344168b95d5cac936aab75f9ea10463c5cda72159422f4c3d5ccf93c781',\n",
       "  'f5371f83dc29492d483e0cb2beaae994ccaee4d9885569556137b4f51f9c9eb4',\n",
       "  '9c11c3be8bc98d8a8dc784df28f115438cbffccfe19f8254dcc2f6a32cb7809a',\n",
       "  '01a126aaaa24d39569f10fc9f9a0f02dbe753469a7ad160484e264602c8d658a',\n",
       "  '81f7a7a6a83817f2774d40520e83f75d80a957bc6895a453b415789bea6f4b5e',\n",
       "  '34217deb28bb8c9c6e92d63475ccc12a3f66eaec3b5257bcf3950799ad402466',\n",
       "  '5e21583bb03674577cdcbf5b82cc05b1013f377bd7cad341e8833d4739c4e215',\n",
       "  'a94c1c03124bba177decb3a07a02b5eeb6808be58db9ebaa32cf56a09f03f3ab',\n",
       "  'b17fd97d5334fec47a8c4d9bcdfd63b26f3b90333eedc379fd94011ec6bd4ef1',\n",
       "  '341497fb4df27845cea89fe8dcd85253637c54263e0932630c03fab32b42ec8a',\n",
       "  '5dfa82a4a3c23a0ce5dcb905e41295a5ca74a3a20fa1bdb0adac8905fbe8e97a',\n",
       "  'a5ae08402c9463e7234d475c4df6b6173f75c69d3f8de91095e879e3f7b3c586',\n",
       "  'b06dcfe232addbfdc72accb7713456d750c9690bfc17ae40492149765ed2cd2f',\n",
       "  'd2f0521563885d8b6d22a0ada48909175a499e4ba71e709bed990180bb91e64a',\n",
       "  '2da67fbbb4d2e9ea22b09cec452c14694e2f1b3d04987e8639992777a0ff3a60',\n",
       "  '3b3fa4ddc0c0fa0042a088caa941ba6f5bd6e9b469724a1c6b9c317827767da3',\n",
       "  '2fa7bed786b8271df5e9852bc5615dfa53ad1352d2587a6b98a0fc9bf4702c09',\n",
       "  '08c96f7d43d843f01c8becdf7764e35e28a35e11a5196dd0b8a8c4f9df3457ed',\n",
       "  '0fdfc52a09db0aac613ad2aa9f39716962d7dc6f2bb1ecf4ce07274ec922f1ad',\n",
       "  '58c539bf73fa0eff63576e1d16cf02d7fa36ac9841b38bff45d2265b3e4c13e5',\n",
       "  '7941f5d011bad5b2969204bf4a992a103116ecb50dc5a0fda008cb00640e37d2',\n",
       "  '32661bfdf6307770338ef0440a2899c287821e21d3e18a3405a875fd1463eb60',\n",
       "  'aa77fb2bda901f1716f5267fa993d591ab54f99b0eeff3dda00aa6ca635dc08a',\n",
       "  'd12220232da85a47335141e5faa159e64dfd6845838740ccf2b096f22553d26d',\n",
       "  '3e32dfd507ec9a36fd135318739dc7f5bf88be5f9754ecebd4134c00ef0e4aad',\n",
       "  'f3bacc8ff929ae82bdce03bf745f14a81b7082f9b0b24d76e531ca6fc226c138',\n",
       "  '942b4b46332777acebd445972e5fa30e9864051faf6160e5f90f1e1b474808e0',\n",
       "  '2ac73f0ed88eb02b5631d43d8cba8c324de01ec779e96fefdb67910b4c9abbeb',\n",
       "  '77bf20c98c91d335720efe9ba44824a8d5d53e317a81fa2ac39c95692ffd4760',\n",
       "  'e46991dcd81442c4d0f95fc38e6d94310eb1884ecd99ad4dbc80bbf3b600a65d',\n",
       "  '748c6b76fa1000dd244f07d8dc46190bbb07ce6f150caf59e81c8c1c25db0c42',\n",
       "  'f76607384267589de2755a1f0e7a4febb30406135279dbae8bf6b46f0128c851',\n",
       "  '31ee1fb203c5e2f619077b2eab19fed10a11e305fbd7d61672efde53eb065b0b',\n",
       "  '580f3a338fb8d47766715be21d81a475de9de95db587e47eaac42bc9ff1f196f',\n",
       "  '6657e318f7941498b415cf09ba25adf609354ca82a7fc5d7f3258b38940d482f',\n",
       "  'a160888d574d5f592f8a7c09bb202c8a8718887b80e963b33c32a51060d65043',\n",
       "  '467f4195c93395a9c2fe6a26d170368f588a68932f7cad224c0a8e29d2b8a550',\n",
       "  '6735083075e5a46e2473817abb57b225740d7f98928b18b30fd34240ceadde46',\n",
       "  '2767930b14bed875d9c5f4db4ff54387036040c1a615d398cb5dc47649cdf753',\n",
       "  'aee38bc06bded3cdb4a9f48c16891de7b782b3c8652dc76932de12b751ecd5ab',\n",
       "  'a27d3d96956764716acf5cc2a5b357e9cea801f0f8ec1ab75d75e13d93cfa601',\n",
       "  '8efd3a5ebc04720e3145d35bbbbc2ae506ad96cf043a065439158ed2df7f6672',\n",
       "  '4a1c9212fb85ce8dd20f56447b074d2011a0ccbf84bf0f9f8df9a2c977063153',\n",
       "  'c6539bf83bf7c336ba4e74325cd0db9d8c0527f7f43479e783d370c2e8f44565',\n",
       "  'd81f2be1840848a158b96d53d8ca026cef099f58430b5926803732d3db96b58c',\n",
       "  'b22cb27e0131dc8690ea8ba521b5c1e6925c17a188c0de8311e6f4f6f662df10',\n",
       "  '35a11539ad2e84b4465b06aa4d7f969821af5360f8fa76ddb1ad645b6891c425',\n",
       "  '7952979a6d5396cd469d4df873e43fc7c0295db54125d38d97da6da702b4aed7',\n",
       "  '42a184cb9d60856397dead291ac0168ac555167faec85c50adb07cfdcf281879',\n",
       "  '3fe3ae4bf07b92bead86e232dd6d49a9d304bca2988d24cb8cfe4d87c0539cef',\n",
       "  'ffada8afdbc3de7c5d6d868cb095e587f3488b4b0ae40e16893a7dfdc5558fce',\n",
       "  '2ea30e1796360397b803e2bd487c14052aeb1d7eaa77cc7bee119d934cb511e8',\n",
       "  'dbcfe1af07370ac9377de336a73699100cb6765cb52b4eb5d78122b51828c2d7',\n",
       "  'f6fe7d352b2e2888273acdd43dfd3645523afb7678daf1dad3739e5ea62db10d',\n",
       "  '8e49be540cd6cfeb515727d477f9857e224972fb62e606eef3bfcd5dacc9ab53',\n",
       "  'a83eff73bd90e9308412619e0bd9f3e99d361c83f678bba105d657ee8027677b',\n",
       "  '664de4b35517b167648885c83657e93ac94b6655b73750f068adb160f061a7d9',\n",
       "  '1578c6f4d345d1c4f25c479aa435a22d9dc3c74d27856cc1a5196d4a20728892',\n",
       "  'b06df585eba37bec15e4636634da38c98f53c9b6daa2d16d8d6891f75099a0cb',\n",
       "  'e685dd2550a42066d002228d2fdd19b1c885cc849c210d77ca13a8cdec384f21',\n",
       "  '8e3b1a331ad1196b09e15ab8b7d9124c614ea6a48c8eec32feb7690d176b5160',\n",
       "  'b30b17be8714d048e93aae2c9e9cc354a6d4deff9b48aae1183e5ff6c7a00bf1',\n",
       "  'cc32a73accabd90ff71a54d02c123a16dcae8686237ca630f1dc709ff6c87e50',\n",
       "  '581d4797c9ed7a036db7aeb31dcfbf850bfbce30e8d60b616a2dd4aadd7d8949',\n",
       "  '538aca192d14198daaf83bc42d3e029e8f347ff07538fabe78766823e36b3ff2',\n",
       "  '2bec10a38b798576c4076643376d8bc467f22c04ea716b699e37ceb40dd709cc',\n",
       "  'b64fcea1e3a28823e9a62a154bb00f44068377e9f90acbaa07238dbd403bd9ed',\n",
       "  '9204c4fc1317eab7a861e03c78add86b54e61dd562f86bdd7fa2a820952b37d0',\n",
       "  '5a854be1bd96d9d893184bfcfbf4e6a89ba1dcd677464b36285af8861b4f1eb4',\n",
       "  'b2a7e6c826d836c29549b7660fb8e3baf32794ae91bfacf7df004655b0ed51af',\n",
       "  'd933ede4bf60a72fdce0b650413f7297ef14f24a28e76849decfd8c38ac7f828',\n",
       "  'd592ce644a6d27f06d438b659c214552587b21257f71097c7644b6abc0735e7d',\n",
       "  '257a432598782f763d35920434f95b00e175a2c9cd74a997d5d37be441682258',\n",
       "  'a9fa584f49e6a8f6ef6f73130ed1227042010510f139baf21c948b0ca6897e83',\n",
       "  'ff9252a67bb7e108a8b10b677b85ef99ed61c85b3965cdd45effa39e6b307a8b',\n",
       "  '0aa71091f9d255499fbddc9be14bb465a4dba5a6675a04ac2639bc77cfc3c2a9',\n",
       "  '481f66df64159db62d44c29369d0623462c38723aeb994e6bbf2659ee4c0b0f8',\n",
       "  '6bb140a6abae3f37899466e3bccda3335f976c7a867f3a4549041b2b2b34fba5',\n",
       "  '387503726d2e04379304fbfa33a056eccd8fad66f6dc7128504504cfc3e6fcce',\n",
       "  '183dcecbdda153ca3fcb51ee4ac3c1d957d7312bc772b972528dfc20d538829a',\n",
       "  '816f314054fe5dfc745f190726e5728bceadb1d515e31f829182bcd9062364d3',\n",
       "  '363d51b2253a4935eac8fb2beb9852c981f2ea91a708085c62414be9db593919',\n",
       "  '31d7e160ffeb10128a6b22e743f90a01f136578fada4b174c9a4cbd7019e5aa8',\n",
       "  '337167aea53fec794a9cdc693c5bab1565f51a75fd022d91b41838276c3d2ebd',\n",
       "  'a5f31d3b964b2f8d31977d029d5ebc9d02eac819232a3e558954891163acfced',\n",
       "  '5f66783fa7a8d92cd3c00385f338ac41f2ec1117404788da2ebcb11b01542569',\n",
       "  '2540a498ad5a5227dd4ceeed5a411caeda88d76be3e177ed0a821ceada69bf18',\n",
       "  'cedbee492abd20312eda5619d56c107de41ad1c1b0d066d00f6a5400b61d39dd',\n",
       "  '181acc5021ed59bb2644c944f8eb08bb7922a97540333f4112efe49bb911329d',\n",
       "  '43194b7cde60d63056e25846bd3934796ad4e28b2bb5ea01d83693ead655db72',\n",
       "  'fa95ec7cf0bb3f6c024d873548d3d3425f978c3d81f3792b2bcf1f1a4ea58c56',\n",
       "  '56e4849daec072175dd356c12ee866ed0956e51611e6e66b1bb25e7f9a1a5fe5',\n",
       "  '71c06dcf00d9ed914f7979d0f8229c14e4b471122be2040819074f1885c6e03d',\n",
       "  '0939364b2028d0febd8e9d20e74364f7317e631cd907f40999b6f1e127cf1f0a',\n",
       "  '823b03ce565399a9deb65fd8129b742c44b7a37033f9ce2ace2aaffe6d4258df',\n",
       "  'e9bed0275e1dfddc99e459ef49c7e73abd36e81c284a6ee1c35b28c07f2743c8',\n",
       "  'd0fef8c97cf376fe0fcfb0000a31b8998fa0b28e165ea98cdc6f46355c350b32',\n",
       "  '1ae31f45a772ee264b9f7dec56f4dc00f7b077c748ebaeb6a1abcefa4b542ad7',\n",
       "  'b24cc4ae6684268d4b3a71174a8e9970529a45a95ba675f2c8ca90d1f57d3030',\n",
       "  'ee77f7ce0d2f54c46c4e79ca9692db3d5cefa64e874b9b50af0f46bff6ffb619',\n",
       "  '1077518d2260a8a82e4d5940d5cf508bd9545114011cc49ace78a6f20703399d',\n",
       "  '764c8af5aa84a6e3b889d62396b0a11799331e58da021ba97f662933c58312e0',\n",
       "  'fc557da9d9e0500122754ac5d36ac64cdb9d9c54287cc273944f97807a033f6b',\n",
       "  'cffbefa16c0b591223d72410db3fe479c894d717e5252b05899736a1bd09f017',\n",
       "  'c315e43b42b05499bbe7b515455dec314928b29b9d3a2f8e84bb47b3da952eae',\n",
       "  '6d4cae705f72720620b3ef2eea195dd8ebb1790e92e80ee9b00353f31c0d1e37',\n",
       "  'ef306c850ec8cc1047c16942acfc4b05bf06fcf83d32f9e5d7dd509f01ce5659',\n",
       "  'bcc9d2924fd14d7d99f8bb6c8ce2f0cfa2e1b6515e06dfb0974432b4e9121b23',\n",
       "  '192bcc4f1bb3a3bd757f324e07fc1526cc9becce022d2f30513a02fc07f5cce6',\n",
       "  'e55a7375a8eb0edd06cac6120bb9d248040ae42d6491c727f8c1000c74ba8a10',\n",
       "  'c56a5b9532b6b2130bb544f233185b218f8c9efac576998cad8c09ac2f54bfff',\n",
       "  'e4253c0211b9841f0f131bf63ad978bc7934cbf2af6a0fac9507474e0793f16a',\n",
       "  '6522793e5652e94425d5c199c42f05946a60f8131bd10461bf5b66ad8e65c202',\n",
       "  '403a3494221ce78a5bc291add5c28d7e79176e64fb391e0522758d586c3bb8f7',\n",
       "  'de0d39dcd9960f5b5d6e44f398326467c4937729a60f678c3bef7c76cd474bfd',\n",
       "  '80f30881ad4df38e5fe552ade8942e8e87cb8321a9038a36f82d8774966a1c65',\n",
       "  'fc6360fe05c312f04c8a863823fceedee4080fe9f94a2b8a1a06fa5dba5d3493',\n",
       "  '3a2834835148389b5ebb8f542f4fbc777d400f14aa848183a3a33d86ca0d6ed6',\n",
       "  'b9b6cbb0b2174ccf49a1b1fce3446c5eb59178fad91b0b7b8f268948ef72676a',\n",
       "  'fff7499576e4a991866a1833d96adafc23d40b24cd04123be2958909272e44e6',\n",
       "  '97ebcf969b93edd4b3414a6cdfe071599c0585227385fa7bbc8ba391fbcfe3fb',\n",
       "  '36e2f3d4f84c51fb1bd7ccfd57cbec269329f56e7dcdde6556779750ec74fbad',\n",
       "  '435311405ff95d313ecdb794b48344037dc407333390c2f134bde2bcaff955a9',\n",
       "  'ad7ee1ba67bc202d9fd1f213c41cf7c145039cc96ec4c968386d2d153a01208f',\n",
       "  '953f787b904298c880b5f36d395800d4269c893e57d86cd2691c241196c1ae15',\n",
       "  '9acd3f02aeaaa722c2348bba63dcb7360eae224e0514780119fb842e1c31afdf',\n",
       "  'd478924d676b58be975680d36b23e5095239c89ab8dd453ad3b67b35ebfa4719',\n",
       "  '44d308f7f726eb8d8545935a3e2e281eb86f89d65197964bf2a54a918e6a925f',\n",
       "  '3db0a1a0c47efc0fe18a60cb8f7844844330476de6e8e1abfeface43f7e6dacb',\n",
       "  '52dd8877894f82c008ff28e69de44e59236abae09823b9b60c4a07755537339a',\n",
       "  '8b5f8fc714c7d2fc495cd7cecd1775db26e07981bb6986aea1ebd625b75b20ac',\n",
       "  '044513dca19cd1e7b3b76b400bdaa6bc3961196aa39ee4e5e57ed5ef7c836086',\n",
       "  '88b709620b73b1d93ed774aa3fc8e5d6ec5df137fb23fefdbb745f0b1133ecfb',\n",
       "  '566a03c0b7a2961be74e4d014f6dac31ee8dd60cdceb33d6388825e407cc7c75',\n",
       "  '54c2f5047c3d019ed06f5074193399d058355ac20d0ec80acefd6bdab420188b',\n",
       "  '8b8d935c274c0d92725b77ba55cead47464ddee9d79c105e5db49914dd85a604',\n",
       "  '085bfadce73d2df296da6d6b37e2669626d7c6bd84bc97f6b58f6da2df2cf2c6',\n",
       "  '6b112e0a8307896fc816fe1ac224cc1b5669835f2ccd1ca511c8b415bfcc1123',\n",
       "  'fca39dc3029f4a09173e99a6db8b810eea77e966c524e9ff8331c41714946582',\n",
       "  'f7cb2046a6efb2f3cc807bffd91a701c7c61e0bf4dc46941b1429a5239c23ca1',\n",
       "  '4eedbe12076f777e2f16d952562f29ffa22d79e5fc8b315825b130d601083aeb',\n",
       "  '72d6933dff785917f9a6245d08b74405581647e10c6cba0a5b22db65ba8395ce',\n",
       "  'f8a0c8f66a696cd2ea6e4f1f214ed7aefa875e54b2eb2018a0f99fecc62d7082',\n",
       "  'ebe36abd4d65299d3303b207f59d390e2a544a889ed128a85048f278a82a772d',\n",
       "  'a6da17bf276cbdf530cfc06b26cd32e28666bbda0605250a7ef7eee1b2b704c8',\n",
       "  'c12321553875b6de80c71de31ea0608193cf2fda515426bc9489781d7349c68f',\n",
       "  '10d7d9365a14167a7cf9649a7134ef6a9e8f2828899344c85824d753c982c43e',\n",
       "  '2bdff6c7db5b9ac4fafcca1fab833054ffd12ebf291906d891a63525972370c7',\n",
       "  '8fd47eab9587ba1d9f8d2e9f28ff740e3488844b59141f264fd578f58857010d',\n",
       "  '6b0ed9e26729e6f7b345120cd00f0c95b2c88e45f51c67d9a8b482ac05ad2bef',\n",
       "  '6be0ea1d7a0cfdbf3673d11b37adad73b4238e94d125f967d548664248c2f953',\n",
       "  '24094290a1631255bcb840eb99cbc4f6bada10f439dbc6f0b98856e7a66ff34b',\n",
       "  'cc79f815e9bf5108fadde91be9f04dee406b9ff3776a6421239f6ca0cc355df9',\n",
       "  'e7806c62a4cc735fb8214ffdcd3002e568d03b2f7870ca641966b4165cee0c0a',\n",
       "  '803e1d55d51d1b37bc8aa35978e7f5ed06dd068456a6188304a7ecdd7dabee9f',\n",
       "  'c28741c24b8d747b486ebdd87e07d73054b0974343c24fa1bd9086542e6b0cbb',\n",
       "  '69e52d41fae3e91e2a80689093c2abc03f73f0296cddb7f80a0899cfe5730ef5',\n",
       "  '902c18be8855fc0005edc6c39ed15b874f4f23c86511f5a17323a76bfd9a674c',\n",
       "  '1239367926f5a05fdc811d5c66788721c689d1de5e4422e1949f3f702cc188c9',\n",
       "  'cb0cd07a6e5c3f95e60ebffd3e41171a57c247e7a751f3eaf1f176dc7a1aafe2',\n",
       "  'f5baa90c2d570659e452067eefcb8be16ec862af33cfe07a8fc4c50eb96186e2',\n",
       "  'ac689ecdd910bc2aef2494f43c9860785c8ec18ec3782f9119aa5064896fffa3',\n",
       "  '55f0e50079f9136817653c69a5832af293454136eb035fe1c65aa7f4319ffc40',\n",
       "  '1e3edacdf90f3ab4045e16501ba925d4e2f66d79fe95a6f881216a0115533741',\n",
       "  'dac0576915c63e01f43b5e1ff1ddfd769abe92b44e2b894e563adbbd395740c4',\n",
       "  'b86d678d354e9469e7243fd978c8ddf0707c93f8defed3c212d6e1d76881abdc',\n",
       "  '1d1063eac546058031e09e02cd905a8836c143a54f007d8ce05990fdc1fa2e82',\n",
       "  '2f40085684872374e506661cb102a0070ab4c60b43e6d64786f15517494572fb',\n",
       "  '481f4fadcfb626b62846445656497db078494c88491bce50bd3a4738d8c21e9d',\n",
       "  '1bd76a8eab2f514d1687f07dc779f42ea46b8e8bf9e9014ac6e789599e080e67',\n",
       "  '95d3a4704e9d9d7a04b898a6465934b7ae31d3a7341cbdae8aa67d8d28315874',\n",
       "  '9ed4fa4bd127f18fc7bcc972f6ca27bf64111d024fa08e24bdfddcd14495ee26',\n",
       "  'aa1131e5c134be04201bf4bd9d817c0ae124f691e515d0d1a9a531e5abb84556',\n",
       "  '9ed8b6bb6d8f62e312ccf75e650e931f70857d2e2cacc10a02fa7cfca64d4f1a',\n",
       "  '4233af296a4f0ea108caacf346e1317307837311cf12f8ecc83323784acf9654',\n",
       "  '88d82a6b12c9339c57208e9191f80f633194f6cafaff1070e9ffa2ee5de679ba',\n",
       "  'fe94c86b778499d009d7c6853bc0c9c27fcd1e7b27dd2cd289de94cca60b9634',\n",
       "  '19b6ba8c36b535ab30f65b1b1ab3b8a73acf1ff7d9c643abd44171589a01b4d2',\n",
       "  '93411dae3ae2f8c105f3b634fe47b57501d7b16c733e6be0ed4c6420d23670d7',\n",
       "  '7f8faa527147175092b04f1a827cbe9395cef416f9f5e62dd9b22a7315bc995c',\n",
       "  'dacb155be23353cc5febb831ce859536f96147036b202dfe7690db9c0ee594d3',\n",
       "  '74d31aeeb95f7e0755459a7fb5a149ae951dd49dd3bdce5b673880c7adfbaaa4',\n",
       "  '6eec11e30eef775b83a0eadfd154d2448e048d92c8f61fa36157d70f1be8e0cd',\n",
       "  'a226c70b5f10de2e5b60612c3a41b5880cd61747fdf36bd61e53992553a1b580',\n",
       "  '2eed562184588e9676b5488553be3b111c767c38baa8379771690ba94d5e1c31',\n",
       "  '527f59ffa260998ffbb15a3bfbce471b1b5d7850888f12cdd37cc1397af03c7b',\n",
       "  'f5f3dfb404ba6fe0cd17509147dac37d2fa88a98e2dfc50ed3ff60853f1fb3ce',\n",
       "  'e5e3830f1c5594f7e43b64630b5c7cb1c1062ef7b333c9f453a879cc7962d4cc',\n",
       "  '84733f3e9e41c52ac48ed53a3f7353043937922b71a12d950f3a067f006b970e',\n",
       "  'c7a5ab50c76a84e128ca5e118d9730e662980a3e4b84b288cd5d729b9594ac78',\n",
       "  '96ffeb09139ab67d5e0e6010f538da57bf9d3c1c9753cae2f36d829bc0739a02',\n",
       "  'cf2e4df93928d4ae18190ef9e0346794e8d37ce2194266f20cb5051334883d57',\n",
       "  '54f79d4510b70b1e252833d134c373e1dcadbd7bc01469df6a5d43c109d96975',\n",
       "  '33e58619f32a50ba2318a5c394199dcdbd823367190dd972d01ce60a4895092f',\n",
       "  '8b788e9981cce808243c781f97ea6994fb43885f9e90d4b89fa83fe2c82c612e',\n",
       "  'f72b2ee3f100962f332147fbfeeb90be84a132ccf615077e147e0356eeb1d495',\n",
       "  '4082e5ccce6b99db83b5b08412bc6ea495f39f8ec47014115e5dd24a3ac59f07',\n",
       "  'cd95651dffaef7d75ac5dd77766001c403c5bdc55bde207369ffaac3342bb3fe'],\n",
       " 'time': 1609699124,\n",
       " 'mediantime': 1609696625,\n",
       " 'nonce': 1398187688,\n",
       " 'bits': '180be955',\n",
       " 'difficulty': 92305684936.50653,\n",
       " 'chainwork': '000000000000000000000000000000000000000001252bc377096509edd837f7',\n",
       " 'previousblockhash': '0000000000000000081c73ca5ebfbf8edfb527fefa8bdead82348346282c90dc',\n",
       " 'nextblockhash': '00000000000000000bee14c79b81ce1eee369ce30feb032734b6e260cd8c2cbe',\n",
       " 'coinbaseTx': {'hex': '',\n",
       "  'txid': 'b56ac266b2ce55b2d7e6d6011556e79949cc0059f24633dbe15f096a59892d63',\n",
       "  'hash': 'b56ac266b2ce55b2d7e6d6011556e79949cc0059f24633dbe15f096a59892d63',\n",
       "  'version': 1,\n",
       "  'size': 277,\n",
       "  'locktime': 0,\n",
       "  'vin': [{'coinbase': '0300330a1a2f5669614254432f4d696e656420627920616d696e737432312f2cfabe6d6d8909f8b49aaa792dd41567c6e4efadb6f29d76a83de9bb90b9b64c530b702d9e100000000000000010706bac0d6a3b35df158ceb3a670b0000',\n",
       "    'txid': '',\n",
       "    'vout': 0,\n",
       "    'scriptSig': {'asm': '', 'hex': ''},\n",
       "    'sequence': 4294967295}],\n",
       "  'vout': [{'value': 6.25149737,\n",
       "    'n': 0,\n",
       "    'scriptPubKey': {'asm': 'OP_DUP OP_HASH160 f1c075a01882ae0972f95d3a4177c86c852b7d91 OP_EQUALVERIFY OP_CHECKSIG',\n",
       "     'hex': '76a914f1c075a01882ae0972f95d3a4177c86c852b7d9188ac',\n",
       "     'reqSigs': 1,\n",
       "     'type': 'pubkeyhash',\n",
       "     'addresses': ['1P3GQYtcWgZHrrJhUa4ctoQ3QoCU2F65nz'],\n",
       "     'opReturn': None,\n",
       "     'isTruncated': False}},\n",
       "   {'value': 0,\n",
       "    'n': 1,\n",
       "    'scriptPubKey': {'asm': 'OP_RETURN 52534b424c4f434b3a73095357667b074b321d6ead3ae01f6c6c4651571ba8364931007b2b002db75f',\n",
       "     'hex': '6a2952534b424c4f434b3a73095357667b074b321d6ead3ae01f6c6c4651571ba8364931007b2b002db75f',\n",
       "     'type': 'nonstandard',\n",
       "     'opReturn': None,\n",
       "     'isTruncated': False}},\n",
       "   {'value': 0,\n",
       "    'n': 2,\n",
       "    'scriptPubKey': {'asm': 'OP_RETURN b9e11b6d21559ac2ca05364a74f4b89142b082d2bc0d635e718109e109f4ddf91a36ac01',\n",
       "     'hex': '6a24b9e11b6d21559ac2ca05364a74f4b89142b082d2bc0d635e718109e109f4ddf91a36ac01',\n",
       "     'type': 'nonstandard',\n",
       "     'opReturn': None,\n",
       "     'isTruncated': False}}],\n",
       "  'blockhash': '000000000000000005852a48b413a006086edb0ffc1c80a0cf2e71fb1146636e',\n",
       "  'confirmations': 23,\n",
       "  'time': 1609699124,\n",
       "  'blocktime': 1609699124,\n",
       "  'blockheight': 668416},\n",
       " 'totalFees': 0.0014973700000000534,\n",
       " 'miner': 'ViaBTC',\n",
       " 'pages': None}"
      ]
     },
     "execution_count": 156,
     "metadata": {},
     "output_type": "execute_result"
    }
   ],
   "source": [
    "bitcointransfer_block"
   ]
  },
  {
   "cell_type": "code",
   "execution_count": 157,
   "metadata": {},
   "outputs": [
    {
     "name": "stdout",
     "output_type": "stream",
     "text": [
      "ViaBTC\n"
     ]
    }
   ],
   "source": [
    "print(bitcointransfer_block['miner'])"
   ]
  },
  {
   "cell_type": "code",
   "execution_count": null,
   "metadata": {},
   "outputs": [],
   "source": [
    "# Miners can be defined as accountants who records every transactions to the blockchain. The concept is a proof of payment, which is important if we want your payment to be valid. Here the miner name is ViaBTC"
   ]
  },
  {
   "cell_type": "code",
   "execution_count": 158,
   "metadata": {},
   "outputs": [
    {
     "name": "stdout",
     "output_type": "stream",
     "text": [
      "414\n"
     ]
    }
   ],
   "source": [
    "print(bitcointransfer_block['txcount'])"
   ]
  },
  {
   "cell_type": "code",
   "execution_count": null,
   "metadata": {},
   "outputs": [],
   "source": [
    "# Total number of transaction done since this transaction has taken place."
   ]
  },
  {
   "cell_type": "code",
   "execution_count": 159,
   "metadata": {},
   "outputs": [
    {
     "name": "stdout",
     "output_type": "stream",
     "text": [
      "0.0014973700000000534\n"
     ]
    }
   ],
   "source": [
    "print(bitcointransfer_block['totalFees'])"
   ]
  },
  {
   "cell_type": "code",
   "execution_count": null,
   "metadata": {},
   "outputs": [],
   "source": [
    "#total transaction that has been carried out including the mining fee in bitcoin values"
   ]
  },
  {
   "cell_type": "code",
   "execution_count": 160,
   "metadata": {},
   "outputs": [
    {
     "name": "stdout",
     "output_type": "stream",
     "text": [
      "23\n"
     ]
    }
   ],
   "source": [
    "print(bitcointransfer_block['confirmations'])"
   ]
  },
  {
   "cell_type": "code",
   "execution_count": null,
   "metadata": {},
   "outputs": [],
   "source": [
    "# The concept of \"confirmation\" in Bitcoin essentially translates to how many blocks have been generated since the block containing transaction has been created."
   ]
  },
  {
   "cell_type": "code",
   "execution_count": 164,
   "metadata": {},
   "outputs": [],
   "source": [
    "timestamp = datetime.datetime.fromtimestamp(bitcointransfer_block['time'])"
   ]
  },
  {
   "cell_type": "code",
   "execution_count": 165,
   "metadata": {},
   "outputs": [
    {
     "name": "stdout",
     "output_type": "stream",
     "text": [
      "2021-01-03 18:38:44\n"
     ]
    }
   ],
   "source": [
    "print(timestamp.strftime('%Y-%m-%d %H:%M:%S'))"
   ]
  },
  {
   "cell_type": "code",
   "execution_count": null,
   "metadata": {},
   "outputs": [],
   "source": [
    "# timestamp essentially tells us the time of the bitcoin transaction. Here itwas done on 3rd January 2021 at 6:38 p.m."
   ]
  },
  {
   "cell_type": "markdown",
   "metadata": {},
   "source": [
    "# 1.2  Extract Information from Famous Blocks"
   ]
  },
  {
   "cell_type": "markdown",
   "metadata": {},
   "source": [
    "The First ever transaction from Satoshi to Hal Finney in 2010"
   ]
  },
  {
   "cell_type": "code",
   "execution_count": 6,
   "metadata": {},
   "outputs": [],
   "source": [
    "answer = requests.get(\"https://api.whatsonchain.com/v1/bsv/main/block/height/170\")\n",
    "bitcoin_block = json.loads(answer.text)\n"
   ]
  },
  {
   "cell_type": "code",
   "execution_count": 7,
   "metadata": {},
   "outputs": [
    {
     "data": {
      "text/plain": [
       "{'hash': '00000000d1145790a8694403d4063f323d499e655c83426834d4ce2f8dd4a2ee',\n",
       " 'confirmations': 668195,\n",
       " 'size': 490,\n",
       " 'height': 170,\n",
       " 'version': 1,\n",
       " 'versionHex': '00000001',\n",
       " 'merkleroot': '7dac2c5666815c17a3b36427de37bb9d2e2c5ccec3f8633eb91a4205cb4c10ff',\n",
       " 'txcount': 2,\n",
       " 'tx': ['b1fea52486ce0c62bb442b530a3f0132b826c74e473d1f2c220bfa78111c5082',\n",
       "  'f4184fc596403b9d638783cf57adfe4c75c605f6356fbc91338530e9831e9e16'],\n",
       " 'time': 1231731025,\n",
       " 'mediantime': 1231716245,\n",
       " 'nonce': 1889418792,\n",
       " 'bits': '1d00ffff',\n",
       " 'difficulty': 1,\n",
       " 'chainwork': '000000000000000000000000000000000000000000000000000000ab00ab00ab',\n",
       " 'previousblockhash': '000000002a22cfee1f2c846adbd12b3e183d4f97683f85dad08a79780a84bd55',\n",
       " 'nextblockhash': '00000000c9ec538cab7f38ef9c67a95742f56ab07b0a37c5be6b02808dbfb4e0',\n",
       " 'coinbaseTx': {'hex': '',\n",
       "  'txid': 'b1fea52486ce0c62bb442b530a3f0132b826c74e473d1f2c220bfa78111c5082',\n",
       "  'hash': 'b1fea52486ce0c62bb442b530a3f0132b826c74e473d1f2c220bfa78111c5082',\n",
       "  'version': 1,\n",
       "  'size': 134,\n",
       "  'locktime': 0,\n",
       "  'vin': [{'coinbase': '04ffff001d0102',\n",
       "    'txid': '',\n",
       "    'vout': 0,\n",
       "    'scriptSig': {'asm': '', 'hex': ''},\n",
       "    'sequence': 4294967295}],\n",
       "  'vout': [{'value': 50,\n",
       "    'n': 0,\n",
       "    'scriptPubKey': {'asm': '04d46c4968bde02899d2aa0963367c7a6ce34eec332b32e42e5f3407e052d64ac625da6f0718e7b302140434bd725706957c092db53805b821a85b23a7ac61725b OP_CHECKSIG',\n",
       "     'hex': '4104d46c4968bde02899d2aa0963367c7a6ce34eec332b32e42e5f3407e052d64ac625da6f0718e7b302140434bd725706957c092db53805b821a85b23a7ac61725bac',\n",
       "     'reqSigs': 1,\n",
       "     'type': 'pubkey',\n",
       "     'addresses': ['1PSSGeFHDnKNxiEyFrD1wcEaHr9hrQDDWc'],\n",
       "     'opReturn': None,\n",
       "     'isTruncated': False}}],\n",
       "  'blockhash': '00000000d1145790a8694403d4063f323d499e655c83426834d4ce2f8dd4a2ee',\n",
       "  'confirmations': 668195,\n",
       "  'time': 1231731025,\n",
       "  'blocktime': 1231731025,\n",
       "  'blockheight': 170},\n",
       " 'totalFees': 0,\n",
       " 'miner': '\\x04��\\x00\\x1d\\x01\\x02',\n",
       " 'pages': None}"
      ]
     },
     "execution_count": 7,
     "metadata": {},
     "output_type": "execute_result"
    }
   ],
   "source": [
    "bitcoin_block"
   ]
  },
  {
   "cell_type": "code",
   "execution_count": 8,
   "metadata": {},
   "outputs": [
    {
     "name": "stdout",
     "output_type": "stream",
     "text": [
      "\u0004��\u0000\u001d",
      "\u0001\u0002\n"
     ]
    }
   ],
   "source": [
    "print(bitcoin_block['miner'])"
   ]
  },
  {
   "cell_type": "code",
   "execution_count": 166,
   "metadata": {},
   "outputs": [
    {
     "name": "stdout",
     "output_type": "stream",
     "text": [
      "2\n"
     ]
    }
   ],
   "source": [
    "print(bitcoin_block['txcount'])"
   ]
  },
  {
   "cell_type": "code",
   "execution_count": 167,
   "metadata": {},
   "outputs": [
    {
     "name": "stdout",
     "output_type": "stream",
     "text": [
      "0\n"
     ]
    }
   ],
   "source": [
    "print(bitcoin_block['totalFees'])"
   ]
  },
  {
   "cell_type": "code",
   "execution_count": 168,
   "metadata": {},
   "outputs": [
    {
     "name": "stdout",
     "output_type": "stream",
     "text": [
      "668195\n"
     ]
    }
   ],
   "source": [
    "print(bitcoin_block['confirmations'])"
   ]
  },
  {
   "cell_type": "code",
   "execution_count": 169,
   "metadata": {},
   "outputs": [],
   "source": [
    "timestamp1 = datetime.datetime.fromtimestamp(bitcoin_block['time'])"
   ]
  },
  {
   "cell_type": "code",
   "execution_count": 170,
   "metadata": {},
   "outputs": [
    {
     "name": "stdout",
     "output_type": "stream",
     "text": [
      "2009-01-12 03:30:25\n"
     ]
    }
   ],
   "source": [
    "print(timestamp1.strftime('%Y-%m-%d %H:%M:%S'))"
   ]
  },
  {
   "cell_type": "markdown",
   "metadata": {},
   "source": [
    "The Pizza purchase for 10,000BTC in 2010"
   ]
  },
  {
   "cell_type": "code",
   "execution_count": 11,
   "metadata": {},
   "outputs": [],
   "source": [
    "answer1 = requests.get(\"https://api.whatsonchain.com/v1/bsv/main/block/height/57043\")\n",
    "pizza_block = json.loads(answer1.text)"
   ]
  },
  {
   "cell_type": "code",
   "execution_count": 12,
   "metadata": {},
   "outputs": [
    {
     "data": {
      "text/plain": [
       "{'hash': '00000000152340ca42227603908689183edc47355204e7aca59383b0aaac1fd8',\n",
       " 'confirmations': 611322,\n",
       " 'size': 23835,\n",
       " 'height': 57043,\n",
       " 'version': 1,\n",
       " 'versionHex': '00000001',\n",
       " 'merkleroot': '5c1d2211f598cd6498f42b269fe3ce4a6fdb40eaa638f86a0579c4e63a721b5a',\n",
       " 'txcount': 2,\n",
       " 'tx': ['bd9075d78e65a98fb054cb33cf0ecf14e3e7f8b3150231df8680919a79ac8fe5',\n",
       "  'a1075db55d416d3ca199f55b6084e2115b9345e16c5cf302fc80e9d5fbf5d48d'],\n",
       " 'time': 1274552191,\n",
       " 'mediantime': 1274548928,\n",
       " 'nonce': 188133155,\n",
       " 'bits': '1c159c24',\n",
       " 'difficulty': 11.84622814970471,\n",
       " 'chainwork': '00000000000000000000000000000000000000000000000000026c60b6429108',\n",
       " 'previousblockhash': '0000000013e7e85518dac94d012d73253d3fdac5c30c4143b177f3086f129580',\n",
       " 'nextblockhash': '0000000013ab9f8ed78b254a429d3d5ad52905362e01bf6c682940337721eb51',\n",
       " 'coinbaseTx': {'hex': '',\n",
       "  'txid': 'bd9075d78e65a98fb054cb33cf0ecf14e3e7f8b3150231df8680919a79ac8fe5',\n",
       "  'hash': 'bd9075d78e65a98fb054cb33cf0ecf14e3e7f8b3150231df8680919a79ac8fe5',\n",
       "  'version': 1,\n",
       "  'size': 134,\n",
       "  'locktime': 0,\n",
       "  'vin': [{'coinbase': '04249c151c0176',\n",
       "    'txid': '',\n",
       "    'vout': 0,\n",
       "    'scriptSig': {'asm': '', 'hex': ''},\n",
       "    'sequence': 4294967295}],\n",
       "  'vout': [{'value': 50.99,\n",
       "    'n': 0,\n",
       "    'scriptPubKey': {'asm': '04e1ab3a971f202c86fdd25d8d9f3b486b80bb30ad36d93c030f409918df7f670f6b148400fff9676c70810391b38875ef613987234252cba32d36eae99e05e5a5 OP_CHECKSIG',\n",
       "     'hex': '4104e1ab3a971f202c86fdd25d8d9f3b486b80bb30ad36d93c030f409918df7f670f6b148400fff9676c70810391b38875ef613987234252cba32d36eae99e05e5a5ac',\n",
       "     'reqSigs': 1,\n",
       "     'type': 'pubkey',\n",
       "     'addresses': ['1yXfRNBg9E2URDEcrdZx5R1ZPxTcUJGTH'],\n",
       "     'opReturn': None,\n",
       "     'isTruncated': False}}],\n",
       "  'blockhash': '00000000152340ca42227603908689183edc47355204e7aca59383b0aaac1fd8',\n",
       "  'confirmations': 611322,\n",
       "  'time': 1274552191,\n",
       "  'blocktime': 1274552191,\n",
       "  'blockheight': 57043},\n",
       " 'totalFees': 0.990000000000002,\n",
       " 'miner': '\\x04$�\\x15\\x1c\\x01v',\n",
       " 'pages': None}"
      ]
     },
     "execution_count": 12,
     "metadata": {},
     "output_type": "execute_result"
    }
   ],
   "source": [
    "pizza_block"
   ]
  },
  {
   "cell_type": "code",
   "execution_count": 13,
   "metadata": {},
   "outputs": [
    {
     "name": "stdout",
     "output_type": "stream",
     "text": [
      "\u0004$�\u0015\u001c",
      "\u0001v\n"
     ]
    }
   ],
   "source": [
    "print(pizza_block['miner'])"
   ]
  },
  {
   "cell_type": "code",
   "execution_count": 171,
   "metadata": {},
   "outputs": [
    {
     "name": "stdout",
     "output_type": "stream",
     "text": [
      "2\n"
     ]
    }
   ],
   "source": [
    "print(pizza_block['txcount'])"
   ]
  },
  {
   "cell_type": "code",
   "execution_count": 172,
   "metadata": {},
   "outputs": [
    {
     "name": "stdout",
     "output_type": "stream",
     "text": [
      "0.990000000000002\n"
     ]
    }
   ],
   "source": [
    "print(pizza_block['totalFees'])"
   ]
  },
  {
   "cell_type": "code",
   "execution_count": 173,
   "metadata": {},
   "outputs": [
    {
     "name": "stdout",
     "output_type": "stream",
     "text": [
      "611322\n"
     ]
    }
   ],
   "source": [
    "print(pizza_block['confirmations'])"
   ]
  },
  {
   "cell_type": "code",
   "execution_count": 174,
   "metadata": {},
   "outputs": [],
   "source": [
    "timestamp2 = datetime.datetime.fromtimestamp(pizza_block['time'])"
   ]
  },
  {
   "cell_type": "code",
   "execution_count": 175,
   "metadata": {},
   "outputs": [
    {
     "name": "stdout",
     "output_type": "stream",
     "text": [
      "2010-05-22 19:16:31\n"
     ]
    }
   ],
   "source": [
    "print(timestamp2.strftime('%Y-%m-%d %H:%M:%S'))"
   ]
  },
  {
   "cell_type": "markdown",
   "metadata": {},
   "source": [
    "# 2. Time Series Investigation of Bitcoin Price"
   ]
  },
  {
   "cell_type": "code",
   "execution_count": 16,
   "metadata": {},
   "outputs": [],
   "source": [
    "CBBTCUSD1 = fred1.get_series('CBBTCUSD')\n"
   ]
  },
  {
   "cell_type": "code",
   "execution_count": 17,
   "metadata": {},
   "outputs": [],
   "source": [
    "bitcoinprice = CBBTCUSD1"
   ]
  },
  {
   "cell_type": "code",
   "execution_count": 71,
   "metadata": {},
   "outputs": [],
   "source": [
    "goldprice = fred1.get_series('ID7108')\n",
    "market = fred1.get_series('SP500')\n",
    "riskfreerate = fred1.get_series('TB3MS')"
   ]
  },
  {
   "cell_type": "code",
   "execution_count": 72,
   "metadata": {},
   "outputs": [],
   "source": [
    "dataframe = pd.concat([bitcoinprice, goldprice, market, riskfreerate], axis=1)"
   ]
  },
  {
   "cell_type": "code",
   "execution_count": 73,
   "metadata": {},
   "outputs": [],
   "source": [
    "dataframe.columns = ['bitcoinprice', 'goldprice', 'market', 'riskfreerate']"
   ]
  },
  {
   "cell_type": "code",
   "execution_count": 74,
   "metadata": {},
   "outputs": [
    {
     "data": {
      "text/html": [
       "<div>\n",
       "<style scoped>\n",
       "    .dataframe tbody tr th:only-of-type {\n",
       "        vertical-align: middle;\n",
       "    }\n",
       "\n",
       "    .dataframe tbody tr th {\n",
       "        vertical-align: top;\n",
       "    }\n",
       "\n",
       "    .dataframe thead th {\n",
       "        text-align: right;\n",
       "    }\n",
       "</style>\n",
       "<table border=\"1\" class=\"dataframe\">\n",
       "  <thead>\n",
       "    <tr style=\"text-align: right;\">\n",
       "      <th></th>\n",
       "      <th>bitcoinprice</th>\n",
       "      <th>goldprice</th>\n",
       "      <th>market</th>\n",
       "      <th>riskfreerate</th>\n",
       "    </tr>\n",
       "  </thead>\n",
       "  <tbody>\n",
       "    <tr>\n",
       "      <th>1934-01-01</th>\n",
       "      <td>NaN</td>\n",
       "      <td>NaN</td>\n",
       "      <td>NaN</td>\n",
       "      <td>0.72</td>\n",
       "    </tr>\n",
       "    <tr>\n",
       "      <th>1934-02-01</th>\n",
       "      <td>NaN</td>\n",
       "      <td>NaN</td>\n",
       "      <td>NaN</td>\n",
       "      <td>0.62</td>\n",
       "    </tr>\n",
       "    <tr>\n",
       "      <th>1934-03-01</th>\n",
       "      <td>NaN</td>\n",
       "      <td>NaN</td>\n",
       "      <td>NaN</td>\n",
       "      <td>0.24</td>\n",
       "    </tr>\n",
       "    <tr>\n",
       "      <th>1934-04-01</th>\n",
       "      <td>NaN</td>\n",
       "      <td>NaN</td>\n",
       "      <td>NaN</td>\n",
       "      <td>0.15</td>\n",
       "    </tr>\n",
       "    <tr>\n",
       "      <th>1934-05-01</th>\n",
       "      <td>NaN</td>\n",
       "      <td>NaN</td>\n",
       "      <td>NaN</td>\n",
       "      <td>0.16</td>\n",
       "    </tr>\n",
       "    <tr>\n",
       "      <th>...</th>\n",
       "      <td>...</td>\n",
       "      <td>...</td>\n",
       "      <td>...</td>\n",
       "      <td>...</td>\n",
       "    </tr>\n",
       "    <tr>\n",
       "      <th>2020-12-29</th>\n",
       "      <td>27407.85</td>\n",
       "      <td>NaN</td>\n",
       "      <td>3727.04</td>\n",
       "      <td>NaN</td>\n",
       "    </tr>\n",
       "    <tr>\n",
       "      <th>2020-12-30</th>\n",
       "      <td>28934.56</td>\n",
       "      <td>NaN</td>\n",
       "      <td>3732.04</td>\n",
       "      <td>NaN</td>\n",
       "    </tr>\n",
       "    <tr>\n",
       "      <th>2020-12-31</th>\n",
       "      <td>29026.97</td>\n",
       "      <td>NaN</td>\n",
       "      <td>3756.07</td>\n",
       "      <td>NaN</td>\n",
       "    </tr>\n",
       "    <tr>\n",
       "      <th>2021-01-01</th>\n",
       "      <td>29391.09</td>\n",
       "      <td>NaN</td>\n",
       "      <td>NaN</td>\n",
       "      <td>NaN</td>\n",
       "    </tr>\n",
       "    <tr>\n",
       "      <th>2021-01-02</th>\n",
       "      <td>32244.73</td>\n",
       "      <td>NaN</td>\n",
       "      <td>NaN</td>\n",
       "      <td>NaN</td>\n",
       "    </tr>\n",
       "  </tbody>\n",
       "</table>\n",
       "<p>4184 rows × 4 columns</p>\n",
       "</div>"
      ],
      "text/plain": [
       "            bitcoinprice  goldprice   market  riskfreerate\n",
       "1934-01-01           NaN        NaN      NaN          0.72\n",
       "1934-02-01           NaN        NaN      NaN          0.62\n",
       "1934-03-01           NaN        NaN      NaN          0.24\n",
       "1934-04-01           NaN        NaN      NaN          0.15\n",
       "1934-05-01           NaN        NaN      NaN          0.16\n",
       "...                  ...        ...      ...           ...\n",
       "2020-12-29      27407.85        NaN  3727.04           NaN\n",
       "2020-12-30      28934.56        NaN  3732.04           NaN\n",
       "2020-12-31      29026.97        NaN  3756.07           NaN\n",
       "2021-01-01      29391.09        NaN      NaN           NaN\n",
       "2021-01-02      32244.73        NaN      NaN           NaN\n",
       "\n",
       "[4184 rows x 4 columns]"
      ]
     },
     "execution_count": 74,
     "metadata": {},
     "output_type": "execute_result"
    }
   ],
   "source": [
    "dataframe"
   ]
  },
  {
   "cell_type": "code",
   "execution_count": 79,
   "metadata": {},
   "outputs": [],
   "source": [
    "dataframe.to_csv('btc_analysis.csv')"
   ]
  },
  {
   "cell_type": "code",
   "execution_count": 76,
   "metadata": {},
   "outputs": [],
   "source": [
    "dataframe = dataframe.fillna(method='ffill')"
   ]
  },
  {
   "cell_type": "code",
   "execution_count": 78,
   "metadata": {},
   "outputs": [],
   "source": [
    "dataframe = dataframe.loc['2016-01-01':'2021-01-01']"
   ]
  },
  {
   "cell_type": "code",
   "execution_count": 80,
   "metadata": {},
   "outputs": [
    {
     "data": {
      "text/html": [
       "<div>\n",
       "<style scoped>\n",
       "    .dataframe tbody tr th:only-of-type {\n",
       "        vertical-align: middle;\n",
       "    }\n",
       "\n",
       "    .dataframe tbody tr th {\n",
       "        vertical-align: top;\n",
       "    }\n",
       "\n",
       "    .dataframe thead th {\n",
       "        text-align: right;\n",
       "    }\n",
       "</style>\n",
       "<table border=\"1\" class=\"dataframe\">\n",
       "  <thead>\n",
       "    <tr style=\"text-align: right;\">\n",
       "      <th></th>\n",
       "      <th>bitcoinprice</th>\n",
       "      <th>goldprice</th>\n",
       "      <th>market</th>\n",
       "      <th>riskfreerate</th>\n",
       "    </tr>\n",
       "  </thead>\n",
       "  <tbody>\n",
       "    <tr>\n",
       "      <th>2016-01-01</th>\n",
       "      <td>435.66</td>\n",
       "      <td>395.0</td>\n",
       "      <td>2043.94</td>\n",
       "      <td>0.26</td>\n",
       "    </tr>\n",
       "    <tr>\n",
       "      <th>2016-01-02</th>\n",
       "      <td>435.40</td>\n",
       "      <td>395.0</td>\n",
       "      <td>2043.94</td>\n",
       "      <td>0.26</td>\n",
       "    </tr>\n",
       "    <tr>\n",
       "      <th>2016-01-03</th>\n",
       "      <td>431.91</td>\n",
       "      <td>395.0</td>\n",
       "      <td>2043.94</td>\n",
       "      <td>0.26</td>\n",
       "    </tr>\n",
       "    <tr>\n",
       "      <th>2016-01-04</th>\n",
       "      <td>433.85</td>\n",
       "      <td>395.0</td>\n",
       "      <td>2012.66</td>\n",
       "      <td>0.26</td>\n",
       "    </tr>\n",
       "    <tr>\n",
       "      <th>2016-01-05</th>\n",
       "      <td>433.34</td>\n",
       "      <td>395.0</td>\n",
       "      <td>2016.71</td>\n",
       "      <td>0.26</td>\n",
       "    </tr>\n",
       "    <tr>\n",
       "      <th>...</th>\n",
       "      <td>...</td>\n",
       "      <td>...</td>\n",
       "      <td>...</td>\n",
       "      <td>...</td>\n",
       "    </tr>\n",
       "    <tr>\n",
       "      <th>2020-12-28</th>\n",
       "      <td>27044.14</td>\n",
       "      <td>694.6</td>\n",
       "      <td>3735.36</td>\n",
       "      <td>0.09</td>\n",
       "    </tr>\n",
       "    <tr>\n",
       "      <th>2020-12-29</th>\n",
       "      <td>27407.85</td>\n",
       "      <td>694.6</td>\n",
       "      <td>3727.04</td>\n",
       "      <td>0.09</td>\n",
       "    </tr>\n",
       "    <tr>\n",
       "      <th>2020-12-30</th>\n",
       "      <td>28934.56</td>\n",
       "      <td>694.6</td>\n",
       "      <td>3732.04</td>\n",
       "      <td>0.09</td>\n",
       "    </tr>\n",
       "    <tr>\n",
       "      <th>2020-12-31</th>\n",
       "      <td>29026.97</td>\n",
       "      <td>694.6</td>\n",
       "      <td>3756.07</td>\n",
       "      <td>0.09</td>\n",
       "    </tr>\n",
       "    <tr>\n",
       "      <th>2021-01-01</th>\n",
       "      <td>29391.09</td>\n",
       "      <td>694.6</td>\n",
       "      <td>3756.07</td>\n",
       "      <td>0.09</td>\n",
       "    </tr>\n",
       "  </tbody>\n",
       "</table>\n",
       "<p>1828 rows × 4 columns</p>\n",
       "</div>"
      ],
      "text/plain": [
       "            bitcoinprice  goldprice   market  riskfreerate\n",
       "2016-01-01        435.66      395.0  2043.94          0.26\n",
       "2016-01-02        435.40      395.0  2043.94          0.26\n",
       "2016-01-03        431.91      395.0  2043.94          0.26\n",
       "2016-01-04        433.85      395.0  2012.66          0.26\n",
       "2016-01-05        433.34      395.0  2016.71          0.26\n",
       "...                  ...        ...      ...           ...\n",
       "2020-12-28      27044.14      694.6  3735.36          0.09\n",
       "2020-12-29      27407.85      694.6  3727.04          0.09\n",
       "2020-12-30      28934.56      694.6  3732.04          0.09\n",
       "2020-12-31      29026.97      694.6  3756.07          0.09\n",
       "2021-01-01      29391.09      694.6  3756.07          0.09\n",
       "\n",
       "[1828 rows x 4 columns]"
      ]
     },
     "execution_count": 80,
     "metadata": {},
     "output_type": "execute_result"
    }
   ],
   "source": [
    "dataframe"
   ]
  },
  {
   "cell_type": "code",
   "execution_count": 81,
   "metadata": {},
   "outputs": [],
   "source": [
    "dataframe = dataframe[dataframe.index.day==1]"
   ]
  },
  {
   "cell_type": "code",
   "execution_count": 82,
   "metadata": {},
   "outputs": [
    {
     "data": {
      "text/html": [
       "<div>\n",
       "<style scoped>\n",
       "    .dataframe tbody tr th:only-of-type {\n",
       "        vertical-align: middle;\n",
       "    }\n",
       "\n",
       "    .dataframe tbody tr th {\n",
       "        vertical-align: top;\n",
       "    }\n",
       "\n",
       "    .dataframe thead th {\n",
       "        text-align: right;\n",
       "    }\n",
       "</style>\n",
       "<table border=\"1\" class=\"dataframe\">\n",
       "  <thead>\n",
       "    <tr style=\"text-align: right;\">\n",
       "      <th></th>\n",
       "      <th>bitcoinprice</th>\n",
       "      <th>goldprice</th>\n",
       "      <th>market</th>\n",
       "      <th>riskfreerate</th>\n",
       "    </tr>\n",
       "  </thead>\n",
       "  <tbody>\n",
       "    <tr>\n",
       "      <th>2016-01-01</th>\n",
       "      <td>435.66</td>\n",
       "      <td>395.0</td>\n",
       "      <td>2043.94</td>\n",
       "      <td>0.26</td>\n",
       "    </tr>\n",
       "    <tr>\n",
       "      <th>2016-02-01</th>\n",
       "      <td>371.33</td>\n",
       "      <td>412.4</td>\n",
       "      <td>1939.38</td>\n",
       "      <td>0.31</td>\n",
       "    </tr>\n",
       "    <tr>\n",
       "      <th>2016-03-01</th>\n",
       "      <td>433.08</td>\n",
       "      <td>451.2</td>\n",
       "      <td>1978.35</td>\n",
       "      <td>0.29</td>\n",
       "    </tr>\n",
       "    <tr>\n",
       "      <th>2016-04-01</th>\n",
       "      <td>417.68</td>\n",
       "      <td>445.4</td>\n",
       "      <td>2072.78</td>\n",
       "      <td>0.23</td>\n",
       "    </tr>\n",
       "    <tr>\n",
       "      <th>2016-05-01</th>\n",
       "      <td>456.98</td>\n",
       "      <td>465.7</td>\n",
       "      <td>2065.30</td>\n",
       "      <td>0.27</td>\n",
       "    </tr>\n",
       "    <tr>\n",
       "      <th>...</th>\n",
       "      <td>...</td>\n",
       "      <td>...</td>\n",
       "      <td>...</td>\n",
       "      <td>...</td>\n",
       "    </tr>\n",
       "    <tr>\n",
       "      <th>2020-09-01</th>\n",
       "      <td>11911.74</td>\n",
       "      <td>707.7</td>\n",
       "      <td>3526.65</td>\n",
       "      <td>0.11</td>\n",
       "    </tr>\n",
       "    <tr>\n",
       "      <th>2020-10-01</th>\n",
       "      <td>10598.64</td>\n",
       "      <td>690.2</td>\n",
       "      <td>3380.80</td>\n",
       "      <td>0.10</td>\n",
       "    </tr>\n",
       "    <tr>\n",
       "      <th>2020-11-01</th>\n",
       "      <td>13784.52</td>\n",
       "      <td>694.6</td>\n",
       "      <td>3269.96</td>\n",
       "      <td>0.09</td>\n",
       "    </tr>\n",
       "    <tr>\n",
       "      <th>2020-12-01</th>\n",
       "      <td>18763.35</td>\n",
       "      <td>694.6</td>\n",
       "      <td>3662.45</td>\n",
       "      <td>0.09</td>\n",
       "    </tr>\n",
       "    <tr>\n",
       "      <th>2021-01-01</th>\n",
       "      <td>29391.09</td>\n",
       "      <td>694.6</td>\n",
       "      <td>3756.07</td>\n",
       "      <td>0.09</td>\n",
       "    </tr>\n",
       "  </tbody>\n",
       "</table>\n",
       "<p>61 rows × 4 columns</p>\n",
       "</div>"
      ],
      "text/plain": [
       "            bitcoinprice  goldprice   market  riskfreerate\n",
       "2016-01-01        435.66      395.0  2043.94          0.26\n",
       "2016-02-01        371.33      412.4  1939.38          0.31\n",
       "2016-03-01        433.08      451.2  1978.35          0.29\n",
       "2016-04-01        417.68      445.4  2072.78          0.23\n",
       "2016-05-01        456.98      465.7  2065.30          0.27\n",
       "...                  ...        ...      ...           ...\n",
       "2020-09-01      11911.74      707.7  3526.65          0.11\n",
       "2020-10-01      10598.64      690.2  3380.80          0.10\n",
       "2020-11-01      13784.52      694.6  3269.96          0.09\n",
       "2020-12-01      18763.35      694.6  3662.45          0.09\n",
       "2021-01-01      29391.09      694.6  3756.07          0.09\n",
       "\n",
       "[61 rows x 4 columns]"
      ]
     },
     "execution_count": 82,
     "metadata": {},
     "output_type": "execute_result"
    }
   ],
   "source": [
    "dataframe"
   ]
  },
  {
   "cell_type": "code",
   "execution_count": 102,
   "metadata": {},
   "outputs": [],
   "source": [
    "import numpy as np"
   ]
  },
  {
   "cell_type": "code",
   "execution_count": 84,
   "metadata": {},
   "outputs": [
    {
     "name": "stderr",
     "output_type": "stream",
     "text": [
      "<ipython-input-84-5d5e015119e5>:1: SettingWithCopyWarning: \n",
      "A value is trying to be set on a copy of a slice from a DataFrame.\n",
      "Try using .loc[row_indexer,col_indexer] = value instead\n",
      "\n",
      "See the caveats in the documentation: https://pandas.pydata.org/pandas-docs/stable/user_guide/indexing.html#returning-a-view-versus-a-copy\n",
      "  dataframe['Rbt'] = np.log(dataframe['bitcoinprice']/dataframe['bitcoinprice'].shift(1))\n"
     ]
    }
   ],
   "source": [
    "dataframe['Rbt'] = np.log(dataframe['bitcoinprice']/dataframe['bitcoinprice'].shift(1))"
   ]
  },
  {
   "cell_type": "code",
   "execution_count": 86,
   "metadata": {},
   "outputs": [
    {
     "name": "stderr",
     "output_type": "stream",
     "text": [
      "<ipython-input-86-e92e98fb25bc>:1: SettingWithCopyWarning: \n",
      "A value is trying to be set on a copy of a slice from a DataFrame.\n",
      "Try using .loc[row_indexer,col_indexer] = value instead\n",
      "\n",
      "See the caveats in the documentation: https://pandas.pydata.org/pandas-docs/stable/user_guide/indexing.html#returning-a-view-versus-a-copy\n",
      "  dataframe['Rgt'] = np.log(dataframe['goldprice']/dataframe['goldprice'].shift(1))\n",
      "<ipython-input-86-e92e98fb25bc>:2: SettingWithCopyWarning: \n",
      "A value is trying to be set on a copy of a slice from a DataFrame.\n",
      "Try using .loc[row_indexer,col_indexer] = value instead\n",
      "\n",
      "See the caveats in the documentation: https://pandas.pydata.org/pandas-docs/stable/user_guide/indexing.html#returning-a-view-versus-a-copy\n",
      "  dataframe['Rmt'] = np.log(dataframe['market']/dataframe['market'].shift(1))\n",
      "<ipython-input-86-e92e98fb25bc>:3: SettingWithCopyWarning: \n",
      "A value is trying to be set on a copy of a slice from a DataFrame.\n",
      "Try using .loc[row_indexer,col_indexer] = value instead\n",
      "\n",
      "See the caveats in the documentation: https://pandas.pydata.org/pandas-docs/stable/user_guide/indexing.html#returning-a-view-versus-a-copy\n",
      "  dataframe['Rft'] = dataframe['riskfreerate']/4\n"
     ]
    }
   ],
   "source": [
    "dataframe['Rgt'] = np.log(dataframe['goldprice']/dataframe['goldprice'].shift(1))\n",
    "dataframe['Rmt'] = np.log(dataframe['market']/dataframe['market'].shift(1))\n",
    "dataframe['Rft'] = dataframe['riskfreerate']/4"
   ]
  },
  {
   "cell_type": "code",
   "execution_count": 87,
   "metadata": {},
   "outputs": [
    {
     "data": {
      "text/html": [
       "<div>\n",
       "<style scoped>\n",
       "    .dataframe tbody tr th:only-of-type {\n",
       "        vertical-align: middle;\n",
       "    }\n",
       "\n",
       "    .dataframe tbody tr th {\n",
       "        vertical-align: top;\n",
       "    }\n",
       "\n",
       "    .dataframe thead th {\n",
       "        text-align: right;\n",
       "    }\n",
       "</style>\n",
       "<table border=\"1\" class=\"dataframe\">\n",
       "  <thead>\n",
       "    <tr style=\"text-align: right;\">\n",
       "      <th></th>\n",
       "      <th>bitcoinprice</th>\n",
       "      <th>goldprice</th>\n",
       "      <th>market</th>\n",
       "      <th>riskfreerate</th>\n",
       "      <th>Rbt</th>\n",
       "      <th>Rgt</th>\n",
       "      <th>Rmt</th>\n",
       "      <th>Rft</th>\n",
       "    </tr>\n",
       "  </thead>\n",
       "  <tbody>\n",
       "    <tr>\n",
       "      <th>2016-01-01</th>\n",
       "      <td>435.66</td>\n",
       "      <td>395.0</td>\n",
       "      <td>2043.94</td>\n",
       "      <td>0.26</td>\n",
       "      <td>NaN</td>\n",
       "      <td>NaN</td>\n",
       "      <td>NaN</td>\n",
       "      <td>0.0650</td>\n",
       "    </tr>\n",
       "    <tr>\n",
       "      <th>2016-02-01</th>\n",
       "      <td>371.33</td>\n",
       "      <td>412.4</td>\n",
       "      <td>1939.38</td>\n",
       "      <td>0.31</td>\n",
       "      <td>-0.159771</td>\n",
       "      <td>0.043108</td>\n",
       "      <td>-0.052511</td>\n",
       "      <td>0.0775</td>\n",
       "    </tr>\n",
       "    <tr>\n",
       "      <th>2016-03-01</th>\n",
       "      <td>433.08</td>\n",
       "      <td>451.2</td>\n",
       "      <td>1978.35</td>\n",
       "      <td>0.29</td>\n",
       "      <td>0.153831</td>\n",
       "      <td>0.089917</td>\n",
       "      <td>0.019895</td>\n",
       "      <td>0.0725</td>\n",
       "    </tr>\n",
       "    <tr>\n",
       "      <th>2016-04-01</th>\n",
       "      <td>417.68</td>\n",
       "      <td>445.4</td>\n",
       "      <td>2072.78</td>\n",
       "      <td>0.23</td>\n",
       "      <td>-0.036207</td>\n",
       "      <td>-0.012938</td>\n",
       "      <td>0.046628</td>\n",
       "      <td>0.0575</td>\n",
       "    </tr>\n",
       "    <tr>\n",
       "      <th>2016-05-01</th>\n",
       "      <td>456.98</td>\n",
       "      <td>465.7</td>\n",
       "      <td>2065.30</td>\n",
       "      <td>0.27</td>\n",
       "      <td>0.089924</td>\n",
       "      <td>0.044569</td>\n",
       "      <td>-0.003615</td>\n",
       "      <td>0.0675</td>\n",
       "    </tr>\n",
       "    <tr>\n",
       "      <th>...</th>\n",
       "      <td>...</td>\n",
       "      <td>...</td>\n",
       "      <td>...</td>\n",
       "      <td>...</td>\n",
       "      <td>...</td>\n",
       "      <td>...</td>\n",
       "      <td>...</td>\n",
       "      <td>...</td>\n",
       "    </tr>\n",
       "    <tr>\n",
       "      <th>2020-09-01</th>\n",
       "      <td>11911.74</td>\n",
       "      <td>707.7</td>\n",
       "      <td>3526.65</td>\n",
       "      <td>0.11</td>\n",
       "      <td>0.008932</td>\n",
       "      <td>-0.032120</td>\n",
       "      <td>0.075216</td>\n",
       "      <td>0.0275</td>\n",
       "    </tr>\n",
       "    <tr>\n",
       "      <th>2020-10-01</th>\n",
       "      <td>10598.64</td>\n",
       "      <td>690.2</td>\n",
       "      <td>3380.80</td>\n",
       "      <td>0.10</td>\n",
       "      <td>-0.116799</td>\n",
       "      <td>-0.025039</td>\n",
       "      <td>-0.042236</td>\n",
       "      <td>0.0250</td>\n",
       "    </tr>\n",
       "    <tr>\n",
       "      <th>2020-11-01</th>\n",
       "      <td>13784.52</td>\n",
       "      <td>694.6</td>\n",
       "      <td>3269.96</td>\n",
       "      <td>0.09</td>\n",
       "      <td>0.262821</td>\n",
       "      <td>0.006355</td>\n",
       "      <td>-0.033335</td>\n",
       "      <td>0.0225</td>\n",
       "    </tr>\n",
       "    <tr>\n",
       "      <th>2020-12-01</th>\n",
       "      <td>18763.35</td>\n",
       "      <td>694.6</td>\n",
       "      <td>3662.45</td>\n",
       "      <td>0.09</td>\n",
       "      <td>0.308359</td>\n",
       "      <td>0.000000</td>\n",
       "      <td>0.113355</td>\n",
       "      <td>0.0225</td>\n",
       "    </tr>\n",
       "    <tr>\n",
       "      <th>2021-01-01</th>\n",
       "      <td>29391.09</td>\n",
       "      <td>694.6</td>\n",
       "      <td>3756.07</td>\n",
       "      <td>0.09</td>\n",
       "      <td>0.448786</td>\n",
       "      <td>0.000000</td>\n",
       "      <td>0.025241</td>\n",
       "      <td>0.0225</td>\n",
       "    </tr>\n",
       "  </tbody>\n",
       "</table>\n",
       "<p>61 rows × 8 columns</p>\n",
       "</div>"
      ],
      "text/plain": [
       "            bitcoinprice  goldprice   market  riskfreerate       Rbt  \\\n",
       "2016-01-01        435.66      395.0  2043.94          0.26       NaN   \n",
       "2016-02-01        371.33      412.4  1939.38          0.31 -0.159771   \n",
       "2016-03-01        433.08      451.2  1978.35          0.29  0.153831   \n",
       "2016-04-01        417.68      445.4  2072.78          0.23 -0.036207   \n",
       "2016-05-01        456.98      465.7  2065.30          0.27  0.089924   \n",
       "...                  ...        ...      ...           ...       ...   \n",
       "2020-09-01      11911.74      707.7  3526.65          0.11  0.008932   \n",
       "2020-10-01      10598.64      690.2  3380.80          0.10 -0.116799   \n",
       "2020-11-01      13784.52      694.6  3269.96          0.09  0.262821   \n",
       "2020-12-01      18763.35      694.6  3662.45          0.09  0.308359   \n",
       "2021-01-01      29391.09      694.6  3756.07          0.09  0.448786   \n",
       "\n",
       "                 Rgt       Rmt     Rft  \n",
       "2016-01-01       NaN       NaN  0.0650  \n",
       "2016-02-01  0.043108 -0.052511  0.0775  \n",
       "2016-03-01  0.089917  0.019895  0.0725  \n",
       "2016-04-01 -0.012938  0.046628  0.0575  \n",
       "2016-05-01  0.044569 -0.003615  0.0675  \n",
       "...              ...       ...     ...  \n",
       "2020-09-01 -0.032120  0.075216  0.0275  \n",
       "2020-10-01 -0.025039 -0.042236  0.0250  \n",
       "2020-11-01  0.006355 -0.033335  0.0225  \n",
       "2020-12-01  0.000000  0.113355  0.0225  \n",
       "2021-01-01  0.000000  0.025241  0.0225  \n",
       "\n",
       "[61 rows x 8 columns]"
      ]
     },
     "execution_count": 87,
     "metadata": {},
     "output_type": "execute_result"
    }
   ],
   "source": [
    "dataframe"
   ]
  },
  {
   "cell_type": "code",
   "execution_count": 128,
   "metadata": {},
   "outputs": [],
   "source": [
    "dataframe = dataframe.drop(dataframe.index[0])"
   ]
  },
  {
   "cell_type": "code",
   "execution_count": 129,
   "metadata": {},
   "outputs": [],
   "source": [
    "Bitcoinreturns = dataframe[\"Rbt\"]    \n",
    "Goldreturns = dataframe[\"Rgt\"]\n",
    "Marketreturns = dataframe[\"Rmt\"]\n",
    "Riskfreereturns = dataframe[\"Rft\"]"
   ]
  },
  {
   "cell_type": "code",
   "execution_count": 130,
   "metadata": {},
   "outputs": [],
   "source": [
    "Bit_Gold_correl = Bitcoinreturns.corr(Goldreturns)"
   ]
  },
  {
   "cell_type": "code",
   "execution_count": 131,
   "metadata": {},
   "outputs": [
    {
     "data": {
      "text/plain": [
       "0.23583022187096742"
      ]
     },
     "execution_count": 131,
     "metadata": {},
     "output_type": "execute_result"
    }
   ],
   "source": [
    "Bit_Gold_correl"
   ]
  },
  {
   "cell_type": "markdown",
   "metadata": {},
   "source": [
    "The correlation coefficient between bitcoinreturn and goldreturn is 0.236, which says that both the returns are positively weakly related with each other."
   ]
  },
  {
   "cell_type": "code",
   "execution_count": 132,
   "metadata": {},
   "outputs": [],
   "source": [
    "Bit_Market_correl = Bitcoinreturns.corr(Marketreturns)"
   ]
  },
  {
   "cell_type": "code",
   "execution_count": 133,
   "metadata": {},
   "outputs": [
    {
     "data": {
      "text/plain": [
       "0.19089529681473805"
      ]
     },
     "execution_count": 133,
     "metadata": {},
     "output_type": "execute_result"
    }
   ],
   "source": [
    "Bit_Market_correl"
   ]
  },
  {
   "cell_type": "markdown",
   "metadata": {},
   "source": [
    "Bitcoinreturns and Marketreturns are very weakly positively correlated with each other with a value of 0.1908."
   ]
  },
  {
   "cell_type": "code",
   "execution_count": 134,
   "metadata": {},
   "outputs": [
    {
     "name": "stdout",
     "output_type": "stream",
     "text": [
      "Requirement already satisfied: scikit-learn in /home/soham/.local/lib/python3.8/site-packages (0.24.0)\r\n",
      "Requirement already satisfied: threadpoolctl>=2.0.0 in /home/soham/.local/lib/python3.8/site-packages (from scikit-learn) (2.1.0)\r\n",
      "Requirement already satisfied: joblib>=0.11 in /home/soham/.local/lib/python3.8/site-packages (from scikit-learn) (1.0.0)\r\n",
      "Requirement already satisfied: numpy>=1.13.3 in /home/soham/.local/lib/python3.8/site-packages (from scikit-learn) (1.19.4)\r\n",
      "Requirement already satisfied: scipy>=0.19.1 in /home/soham/.local/lib/python3.8/site-packages (from scikit-learn) (1.5.4)\r\n"
     ]
    }
   ],
   "source": [
    "!pip3 install scikit-learn"
   ]
  },
  {
   "cell_type": "code",
   "execution_count": 135,
   "metadata": {},
   "outputs": [],
   "source": [
    "from sklearn.linear_model import LinearRegression"
   ]
  },
  {
   "cell_type": "code",
   "execution_count": 136,
   "metadata": {},
   "outputs": [],
   "source": [
    "w = Bitcoinreturns-Riskfreereturns\n",
    "x = Goldreturns-Riskfreereturns\n",
    "y = Marketreturns-Riskfreereturns"
   ]
  },
  {
   "cell_type": "code",
   "execution_count": 139,
   "metadata": {},
   "outputs": [
    {
     "data": {
      "text/plain": [
       "(59,)"
      ]
     },
     "execution_count": 139,
     "metadata": {},
     "output_type": "execute_result"
    }
   ],
   "source": [
    "w.shape"
   ]
  },
  {
   "cell_type": "code",
   "execution_count": 142,
   "metadata": {},
   "outputs": [],
   "source": [
    "w = w.values.reshape(-1, 1)"
   ]
  },
  {
   "cell_type": "code",
   "execution_count": 143,
   "metadata": {},
   "outputs": [
    {
     "data": {
      "text/plain": [
       "(59, 1)"
      ]
     },
     "execution_count": 143,
     "metadata": {},
     "output_type": "execute_result"
    }
   ],
   "source": [
    "w.shape"
   ]
  },
  {
   "cell_type": "code",
   "execution_count": 148,
   "metadata": {},
   "outputs": [
    {
     "data": {
      "text/plain": [
       "array([[ 0.08133131],\n",
       "       [-0.09370688],\n",
       "       [ 0.02242404],\n",
       "       [ 0.08982801],\n",
       "       [ 0.16245985],\n",
       "       [-0.1888685 ],\n",
       "       [-0.12713836],\n",
       "       [-0.010742  ],\n",
       "       [ 0.05882436],\n",
       "       [-0.09611061],\n",
       "       [ 0.14778794],\n",
       "       [-0.13020144],\n",
       "       [ 0.02929058],\n",
       "       [-0.31900329],\n",
       "       [ 0.05169872],\n",
       "       [ 0.27655381],\n",
       "       [-0.26599699],\n",
       "       [-0.13251654],\n",
       "       [ 0.33623156],\n",
       "       [-0.38605713],\n",
       "       [ 0.1265969 ],\n",
       "       [ 0.14147078],\n",
       "       [-0.13728413],\n",
       "       [-0.79490341],\n",
       "       [-0.23541603],\n",
       "       [-0.90911415],\n",
       "       [-0.17904954],\n",
       "       [-0.66341418],\n",
       "       [-0.65843446],\n",
       "       [-0.32720296],\n",
       "       [-0.58833174],\n",
       "       [-0.65239688],\n",
       "       [-0.617935  ],\n",
       "       [-1.01882831],\n",
       "       [-0.67183517],\n",
       "       [-0.70460154],\n",
       "       [-0.49812103],\n",
       "       [-0.51165255],\n",
       "       [-0.33578144],\n",
       "       [-0.06732176],\n",
       "       [-0.31378923],\n",
       "       [-0.50211633],\n",
       "       [-0.53668251],\n",
       "       [-0.57270519],\n",
       "       [-0.27750682],\n",
       "       [-0.60821908],\n",
       "       [-0.41284054],\n",
       "       [-0.11245501],\n",
       "       [-0.17162864],\n",
       "       [-0.26892696],\n",
       "       [ 0.23883264],\n",
       "       [ 0.10727069],\n",
       "       [-0.13265731],\n",
       "       [ 0.22014923],\n",
       "       [-0.01856816],\n",
       "       [-0.14179878],\n",
       "       [ 0.24032053],\n",
       "       [ 0.28585928],\n",
       "       [ 0.42628607]])"
      ]
     },
     "execution_count": 148,
     "metadata": {},
     "output_type": "execute_result"
    }
   ],
   "source": [
    "w"
   ]
  },
  {
   "cell_type": "code",
   "execution_count": 144,
   "metadata": {},
   "outputs": [],
   "source": [
    "x = x.values.reshape(-1, 1)"
   ]
  },
  {
   "cell_type": "code",
   "execution_count": 145,
   "metadata": {},
   "outputs": [],
   "source": [
    "y = y.values.reshape(-1, 1)"
   ]
  },
  {
   "cell_type": "code",
   "execution_count": 151,
   "metadata": {},
   "outputs": [],
   "source": [
    "lr = LinearRegression()"
   ]
  },
  {
   "cell_type": "code",
   "execution_count": 153,
   "metadata": {},
   "outputs": [
    {
     "name": "stdout",
     "output_type": "stream",
     "text": [
      "[-0.17190718] [[0.4791191]]\n"
     ]
    }
   ],
   "source": [
    "lr.fit(w, y)\n",
    "print(lr.intercept_, lr.coef_)"
   ]
  },
  {
   "cell_type": "markdown",
   "metadata": {},
   "source": [
    "The intercept term for Bitcoinreturns is -0.1719 and the slope coeeficient is 0.4791"
   ]
  },
  {
   "cell_type": "code",
   "execution_count": 154,
   "metadata": {},
   "outputs": [
    {
     "name": "stdout",
     "output_type": "stream",
     "text": [
      "[-0.00441081] [[0.97531276]]\n"
     ]
    }
   ],
   "source": [
    "lr.fit(x, y)\n",
    "print(lr.intercept_, lr.coef_)"
   ]
  },
  {
   "cell_type": "markdown",
   "metadata": {},
   "source": [
    "The intercept term for goldreturn is -0.0044 and the slope coeeficent for goldreturns is 0.9753"
   ]
  },
  {
   "cell_type": "code",
   "execution_count": null,
   "metadata": {},
   "outputs": [],
   "source": []
  }
 ],
 "metadata": {
  "kernelspec": {
   "display_name": "Python 3",
   "language": "python",
   "name": "python3"
  },
  "language_info": {
   "codemirror_mode": {
    "name": "ipython",
    "version": 3
   },
   "file_extension": ".py",
   "mimetype": "text/x-python",
   "name": "python",
   "nbconvert_exporter": "python",
   "pygments_lexer": "ipython3",
   "version": "3.8.5"
  }
 },
 "nbformat": 4,
 "nbformat_minor": 4
}
