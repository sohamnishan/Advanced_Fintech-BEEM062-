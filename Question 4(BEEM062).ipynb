{
 "cells": [
  {
   "cell_type": "markdown",
   "metadata": {},
   "source": [
    "The financial time series that I am using in this question is Bitcoin(BTC). It is the most important cryptocurrency till date not only because it was the first crypto to be invented but also because of its turing completeness. It is ahead of any other currencies with respect to its network effect and strong security stature. Another big advantage of choosing it over other cryptocurrencies is that, it has proved to be a good store of value over the period of years.\n",
    "Bitcoin prices can be impacted by the prices of other cryptocurrencies like Etherium, Bitcoin SV, Bitcoin Cash, XRP etc. The Bitcoin price also depends on some other events that may not be quantifiable as compared to the crypto prices. Supply and Demand of money, Mining difficulty,Government policy change over the years had tremendous short-term impact on the price of Bitcoin. Also events like changes in global oil prices,gold price, trade war between America and China  will impact the price of Bitcoin. Also international data security breach in the form of hacking can impact the price of Bitcoin.\n",
    "Of all these I believe the prices of the cryptocurrencies, oil price change can be obtained easily. Events like government policy change, trade war, minimg difficulty and hacking event varibles cannot be obtained to measure its impact on the price of Bitcoin."
   ]
  },
  {
   "cell_type": "markdown",
   "metadata": {},
   "source": [
    "# The Analysis"
   ]
  },
  {
   "cell_type": "code",
   "execution_count": null,
   "metadata": {},
   "outputs": [],
   "source": [
    "# Using ElasticNet to regularise a larger model into a smaller one to see the variables that are actually impacting the price of Bitcoin.\n",
    "# Using Simple Linear regression model to forecast the Bitcoin time series.\n",
    "# Graphical representation to show Actual vs Fitted Estimation of BTC prices.\n",
    "# Evaluating MSE for both ElasticNet and Linear Regression and see which one is better and how the forecasting model can be improved."
   ]
  },
  {
   "cell_type": "code",
   "execution_count": 1,
   "metadata": {},
   "outputs": [],
   "source": [
    "import requests\n",
    "import json\n",
    "import pandas as pd\n",
    "import datetime"
   ]
  },
  {
   "cell_type": "code",
   "execution_count": 2,
   "metadata": {},
   "outputs": [],
   "source": [
    "lim = '100'\n",
    "pair = ['BTC','BSV','ETH','XRP','USDT','BCH','LTC','XLM','XTZ','EOS','DOGE']\n",
    "coins = pd.DataFrame()"
   ]
  },
  {
   "cell_type": "code",
   "execution_count": 3,
   "metadata": {},
   "outputs": [],
   "source": [
    "my_crypto_key = \"aa0888efdbbb911e79e296c6f674d5fc440217860b85af736b9df6853bab8746\""
   ]
  },
  {
   "cell_type": "code",
   "execution_count": 4,
   "metadata": {},
   "outputs": [],
   "source": [
    "for i in pair:\n",
    "    URL_A = 'https://min-api.cryptocompare.com/data/histoday?fsym='+i+'&tsym=USD&limit='+lim+ '&api_key='\n",
    "    URL = URL_A + my_crypto_key\n",
    "    data = requests.get(URL)\n",
    "    json_data = data.json()\n",
    "    table = pd.json_normalize(json_data, 'Data').set_index('time')\n",
    "    table.index = pd.to_datetime(table.index ,unit='s')\n",
    "    coins = pd.concat([coins, table.high], axis=1)\n",
    "coins.columns = pair"
   ]
  },
  {
   "cell_type": "code",
   "execution_count": 5,
   "metadata": {},
   "outputs": [
    {
     "data": {
      "text/html": [
       "<div>\n",
       "<style scoped>\n",
       "    .dataframe tbody tr th:only-of-type {\n",
       "        vertical-align: middle;\n",
       "    }\n",
       "\n",
       "    .dataframe tbody tr th {\n",
       "        vertical-align: top;\n",
       "    }\n",
       "\n",
       "    .dataframe thead th {\n",
       "        text-align: right;\n",
       "    }\n",
       "</style>\n",
       "<table border=\"1\" class=\"dataframe\">\n",
       "  <thead>\n",
       "    <tr style=\"text-align: right;\">\n",
       "      <th></th>\n",
       "      <th>BTC</th>\n",
       "      <th>BSV</th>\n",
       "      <th>ETH</th>\n",
       "      <th>XRP</th>\n",
       "      <th>USDT</th>\n",
       "      <th>BCH</th>\n",
       "      <th>LTC</th>\n",
       "      <th>XLM</th>\n",
       "      <th>XTZ</th>\n",
       "      <th>EOS</th>\n",
       "      <th>DOGE</th>\n",
       "    </tr>\n",
       "  </thead>\n",
       "  <tbody>\n",
       "    <tr>\n",
       "      <th>2021-04-20</th>\n",
       "      <td>57101.05</td>\n",
       "      <td>318.64</td>\n",
       "      <td>2348.17</td>\n",
       "      <td>1.4470</td>\n",
       "      <td>1.012</td>\n",
       "      <td>973.09</td>\n",
       "      <td>274.67</td>\n",
       "      <td>0.5310</td>\n",
       "      <td>5.713</td>\n",
       "      <td>6.854</td>\n",
       "      <td>0.4233</td>\n",
       "    </tr>\n",
       "    <tr>\n",
       "      <th>2021-04-21</th>\n",
       "      <td>56801.94</td>\n",
       "      <td>306.25</td>\n",
       "      <td>2469.05</td>\n",
       "      <td>1.4640</td>\n",
       "      <td>1.056</td>\n",
       "      <td>999.13</td>\n",
       "      <td>276.83</td>\n",
       "      <td>0.5382</td>\n",
       "      <td>5.834</td>\n",
       "      <td>6.848</td>\n",
       "      <td>0.3474</td>\n",
       "    </tr>\n",
       "    <tr>\n",
       "      <th>2021-04-22</th>\n",
       "      <td>55458.61</td>\n",
       "      <td>292.72</td>\n",
       "      <td>2644.50</td>\n",
       "      <td>1.4180</td>\n",
       "      <td>1.073</td>\n",
       "      <td>971.08</td>\n",
       "      <td>289.68</td>\n",
       "      <td>0.5142</td>\n",
       "      <td>5.757</td>\n",
       "      <td>6.817</td>\n",
       "      <td>0.3091</td>\n",
       "    </tr>\n",
       "    <tr>\n",
       "      <th>2021-04-23</th>\n",
       "      <td>52112.75</td>\n",
       "      <td>288.85</td>\n",
       "      <td>2441.96</td>\n",
       "      <td>1.1960</td>\n",
       "      <td>1.019</td>\n",
       "      <td>873.36</td>\n",
       "      <td>256.89</td>\n",
       "      <td>0.4576</td>\n",
       "      <td>5.069</td>\n",
       "      <td>5.991</td>\n",
       "      <td>0.2691</td>\n",
       "    </tr>\n",
       "    <tr>\n",
       "      <th>2021-04-24</th>\n",
       "      <td>51223.86</td>\n",
       "      <td>245.77</td>\n",
       "      <td>2370.67</td>\n",
       "      <td>1.1720</td>\n",
       "      <td>1.024</td>\n",
       "      <td>840.94</td>\n",
       "      <td>241.73</td>\n",
       "      <td>0.4616</td>\n",
       "      <td>4.828</td>\n",
       "      <td>5.595</td>\n",
       "      <td>0.2901</td>\n",
       "    </tr>\n",
       "    <tr>\n",
       "      <th>...</th>\n",
       "      <td>...</td>\n",
       "      <td>...</td>\n",
       "      <td>...</td>\n",
       "      <td>...</td>\n",
       "      <td>...</td>\n",
       "      <td>...</td>\n",
       "      <td>...</td>\n",
       "      <td>...</td>\n",
       "      <td>...</td>\n",
       "      <td>...</td>\n",
       "      <td>...</td>\n",
       "    </tr>\n",
       "    <tr>\n",
       "      <th>2021-07-25</th>\n",
       "      <td>35382.63</td>\n",
       "      <td>131.79</td>\n",
       "      <td>2197.07</td>\n",
       "      <td>0.6120</td>\n",
       "      <td>1.000</td>\n",
       "      <td>473.96</td>\n",
       "      <td>128.05</td>\n",
       "      <td>0.2675</td>\n",
       "      <td>2.906</td>\n",
       "      <td>3.697</td>\n",
       "      <td>0.2005</td>\n",
       "    </tr>\n",
       "    <tr>\n",
       "      <th>2021-07-26</th>\n",
       "      <td>40553.85</td>\n",
       "      <td>135.77</td>\n",
       "      <td>2430.27</td>\n",
       "      <td>0.6780</td>\n",
       "      <td>1.089</td>\n",
       "      <td>517.81</td>\n",
       "      <td>140.36</td>\n",
       "      <td>0.2845</td>\n",
       "      <td>3.116</td>\n",
       "      <td>3.998</td>\n",
       "      <td>0.2329</td>\n",
       "    </tr>\n",
       "    <tr>\n",
       "      <th>2021-07-27</th>\n",
       "      <td>39535.50</td>\n",
       "      <td>139.34</td>\n",
       "      <td>2319.63</td>\n",
       "      <td>0.6527</td>\n",
       "      <td>1.002</td>\n",
       "      <td>503.89</td>\n",
       "      <td>135.14</td>\n",
       "      <td>0.2702</td>\n",
       "      <td>2.930</td>\n",
       "      <td>3.788</td>\n",
       "      <td>0.2094</td>\n",
       "    </tr>\n",
       "    <tr>\n",
       "      <th>2021-07-28</th>\n",
       "      <td>40906.09</td>\n",
       "      <td>136.70</td>\n",
       "      <td>2346.53</td>\n",
       "      <td>0.7526</td>\n",
       "      <td>1.022</td>\n",
       "      <td>519.04</td>\n",
       "      <td>141.96</td>\n",
       "      <td>0.2815</td>\n",
       "      <td>2.899</td>\n",
       "      <td>4.014</td>\n",
       "      <td>0.2136</td>\n",
       "    </tr>\n",
       "    <tr>\n",
       "      <th>2021-07-29</th>\n",
       "      <td>40633.62</td>\n",
       "      <td>141.90</td>\n",
       "      <td>2328.75</td>\n",
       "      <td>0.7389</td>\n",
       "      <td>1.001</td>\n",
       "      <td>512.49</td>\n",
       "      <td>140.90</td>\n",
       "      <td>0.2707</td>\n",
       "      <td>2.838</td>\n",
       "      <td>3.921</td>\n",
       "      <td>0.2063</td>\n",
       "    </tr>\n",
       "  </tbody>\n",
       "</table>\n",
       "<p>101 rows × 11 columns</p>\n",
       "</div>"
      ],
      "text/plain": [
       "                 BTC     BSV      ETH     XRP   USDT     BCH     LTC     XLM  \\\n",
       "2021-04-20  57101.05  318.64  2348.17  1.4470  1.012  973.09  274.67  0.5310   \n",
       "2021-04-21  56801.94  306.25  2469.05  1.4640  1.056  999.13  276.83  0.5382   \n",
       "2021-04-22  55458.61  292.72  2644.50  1.4180  1.073  971.08  289.68  0.5142   \n",
       "2021-04-23  52112.75  288.85  2441.96  1.1960  1.019  873.36  256.89  0.4576   \n",
       "2021-04-24  51223.86  245.77  2370.67  1.1720  1.024  840.94  241.73  0.4616   \n",
       "...              ...     ...      ...     ...    ...     ...     ...     ...   \n",
       "2021-07-25  35382.63  131.79  2197.07  0.6120  1.000  473.96  128.05  0.2675   \n",
       "2021-07-26  40553.85  135.77  2430.27  0.6780  1.089  517.81  140.36  0.2845   \n",
       "2021-07-27  39535.50  139.34  2319.63  0.6527  1.002  503.89  135.14  0.2702   \n",
       "2021-07-28  40906.09  136.70  2346.53  0.7526  1.022  519.04  141.96  0.2815   \n",
       "2021-07-29  40633.62  141.90  2328.75  0.7389  1.001  512.49  140.90  0.2707   \n",
       "\n",
       "              XTZ    EOS    DOGE  \n",
       "2021-04-20  5.713  6.854  0.4233  \n",
       "2021-04-21  5.834  6.848  0.3474  \n",
       "2021-04-22  5.757  6.817  0.3091  \n",
       "2021-04-23  5.069  5.991  0.2691  \n",
       "2021-04-24  4.828  5.595  0.2901  \n",
       "...           ...    ...     ...  \n",
       "2021-07-25  2.906  3.697  0.2005  \n",
       "2021-07-26  3.116  3.998  0.2329  \n",
       "2021-07-27  2.930  3.788  0.2094  \n",
       "2021-07-28  2.899  4.014  0.2136  \n",
       "2021-07-29  2.838  3.921  0.2063  \n",
       "\n",
       "[101 rows x 11 columns]"
      ]
     },
     "execution_count": 5,
     "metadata": {},
     "output_type": "execute_result"
    }
   ],
   "source": [
    "coins.columns = pair\n",
    "coins = coins[pair]\n",
    "coins"
   ]
  },
  {
   "cell_type": "code",
   "execution_count": 6,
   "metadata": {},
   "outputs": [],
   "source": [
    "coins_lagged=coins.copy()\n",
    "trailing_window_size = 1\n",
    "for window in range(1, trailing_window_size +1):\n",
    "    shifted = coins.shift(window)\n",
    "    shifted.columns = [x + \"_lag\" + str(window) for x in coins.columns]\n",
    "    \n",
    "    coins_lagged = pd.concat((coins_lagged, shifted), axis=1)\n",
    "coins_lagged = coins_lagged.dropna()"
   ]
  },
  {
   "cell_type": "code",
   "execution_count": 7,
   "metadata": {},
   "outputs": [
    {
     "data": {
      "text/html": [
       "<div>\n",
       "<style scoped>\n",
       "    .dataframe tbody tr th:only-of-type {\n",
       "        vertical-align: middle;\n",
       "    }\n",
       "\n",
       "    .dataframe tbody tr th {\n",
       "        vertical-align: top;\n",
       "    }\n",
       "\n",
       "    .dataframe thead th {\n",
       "        text-align: right;\n",
       "    }\n",
       "</style>\n",
       "<table border=\"1\" class=\"dataframe\">\n",
       "  <thead>\n",
       "    <tr style=\"text-align: right;\">\n",
       "      <th></th>\n",
       "      <th>BTC</th>\n",
       "      <th>BSV</th>\n",
       "      <th>ETH</th>\n",
       "      <th>XRP</th>\n",
       "      <th>USDT</th>\n",
       "      <th>BCH</th>\n",
       "      <th>LTC</th>\n",
       "      <th>XLM</th>\n",
       "      <th>XTZ</th>\n",
       "      <th>EOS</th>\n",
       "      <th>...</th>\n",
       "      <th>BSV_lag1</th>\n",
       "      <th>ETH_lag1</th>\n",
       "      <th>XRP_lag1</th>\n",
       "      <th>USDT_lag1</th>\n",
       "      <th>BCH_lag1</th>\n",
       "      <th>LTC_lag1</th>\n",
       "      <th>XLM_lag1</th>\n",
       "      <th>XTZ_lag1</th>\n",
       "      <th>EOS_lag1</th>\n",
       "      <th>DOGE_lag1</th>\n",
       "    </tr>\n",
       "  </thead>\n",
       "  <tbody>\n",
       "    <tr>\n",
       "      <th>2021-04-21</th>\n",
       "      <td>56801.94</td>\n",
       "      <td>306.25</td>\n",
       "      <td>2469.05</td>\n",
       "      <td>1.4640</td>\n",
       "      <td>1.056</td>\n",
       "      <td>999.13</td>\n",
       "      <td>276.83</td>\n",
       "      <td>0.5382</td>\n",
       "      <td>5.834</td>\n",
       "      <td>6.848</td>\n",
       "      <td>...</td>\n",
       "      <td>318.64</td>\n",
       "      <td>2348.17</td>\n",
       "      <td>1.4470</td>\n",
       "      <td>1.012</td>\n",
       "      <td>973.09</td>\n",
       "      <td>274.67</td>\n",
       "      <td>0.5310</td>\n",
       "      <td>5.713</td>\n",
       "      <td>6.854</td>\n",
       "      <td>0.4233</td>\n",
       "    </tr>\n",
       "    <tr>\n",
       "      <th>2021-04-22</th>\n",
       "      <td>55458.61</td>\n",
       "      <td>292.72</td>\n",
       "      <td>2644.50</td>\n",
       "      <td>1.4180</td>\n",
       "      <td>1.073</td>\n",
       "      <td>971.08</td>\n",
       "      <td>289.68</td>\n",
       "      <td>0.5142</td>\n",
       "      <td>5.757</td>\n",
       "      <td>6.817</td>\n",
       "      <td>...</td>\n",
       "      <td>306.25</td>\n",
       "      <td>2469.05</td>\n",
       "      <td>1.4640</td>\n",
       "      <td>1.056</td>\n",
       "      <td>999.13</td>\n",
       "      <td>276.83</td>\n",
       "      <td>0.5382</td>\n",
       "      <td>5.834</td>\n",
       "      <td>6.848</td>\n",
       "      <td>0.3474</td>\n",
       "    </tr>\n",
       "    <tr>\n",
       "      <th>2021-04-23</th>\n",
       "      <td>52112.75</td>\n",
       "      <td>288.85</td>\n",
       "      <td>2441.96</td>\n",
       "      <td>1.1960</td>\n",
       "      <td>1.019</td>\n",
       "      <td>873.36</td>\n",
       "      <td>256.89</td>\n",
       "      <td>0.4576</td>\n",
       "      <td>5.069</td>\n",
       "      <td>5.991</td>\n",
       "      <td>...</td>\n",
       "      <td>292.72</td>\n",
       "      <td>2644.50</td>\n",
       "      <td>1.4180</td>\n",
       "      <td>1.073</td>\n",
       "      <td>971.08</td>\n",
       "      <td>289.68</td>\n",
       "      <td>0.5142</td>\n",
       "      <td>5.757</td>\n",
       "      <td>6.817</td>\n",
       "      <td>0.3091</td>\n",
       "    </tr>\n",
       "    <tr>\n",
       "      <th>2021-04-24</th>\n",
       "      <td>51223.86</td>\n",
       "      <td>245.77</td>\n",
       "      <td>2370.67</td>\n",
       "      <td>1.1720</td>\n",
       "      <td>1.024</td>\n",
       "      <td>840.94</td>\n",
       "      <td>241.73</td>\n",
       "      <td>0.4616</td>\n",
       "      <td>4.828</td>\n",
       "      <td>5.595</td>\n",
       "      <td>...</td>\n",
       "      <td>288.85</td>\n",
       "      <td>2441.96</td>\n",
       "      <td>1.1960</td>\n",
       "      <td>1.019</td>\n",
       "      <td>873.36</td>\n",
       "      <td>256.89</td>\n",
       "      <td>0.4576</td>\n",
       "      <td>5.069</td>\n",
       "      <td>5.991</td>\n",
       "      <td>0.2691</td>\n",
       "    </tr>\n",
       "    <tr>\n",
       "      <th>2021-04-25</th>\n",
       "      <td>50576.40</td>\n",
       "      <td>247.77</td>\n",
       "      <td>2357.02</td>\n",
       "      <td>1.1570</td>\n",
       "      <td>1.031</td>\n",
       "      <td>806.63</td>\n",
       "      <td>235.74</td>\n",
       "      <td>0.4448</td>\n",
       "      <td>4.795</td>\n",
       "      <td>5.460</td>\n",
       "      <td>...</td>\n",
       "      <td>245.77</td>\n",
       "      <td>2370.67</td>\n",
       "      <td>1.1720</td>\n",
       "      <td>1.024</td>\n",
       "      <td>840.94</td>\n",
       "      <td>241.73</td>\n",
       "      <td>0.4616</td>\n",
       "      <td>4.828</td>\n",
       "      <td>5.595</td>\n",
       "      <td>0.2901</td>\n",
       "    </tr>\n",
       "    <tr>\n",
       "      <th>...</th>\n",
       "      <td>...</td>\n",
       "      <td>...</td>\n",
       "      <td>...</td>\n",
       "      <td>...</td>\n",
       "      <td>...</td>\n",
       "      <td>...</td>\n",
       "      <td>...</td>\n",
       "      <td>...</td>\n",
       "      <td>...</td>\n",
       "      <td>...</td>\n",
       "      <td>...</td>\n",
       "      <td>...</td>\n",
       "      <td>...</td>\n",
       "      <td>...</td>\n",
       "      <td>...</td>\n",
       "      <td>...</td>\n",
       "      <td>...</td>\n",
       "      <td>...</td>\n",
       "      <td>...</td>\n",
       "      <td>...</td>\n",
       "      <td>...</td>\n",
       "    </tr>\n",
       "    <tr>\n",
       "      <th>2021-07-25</th>\n",
       "      <td>35382.63</td>\n",
       "      <td>131.79</td>\n",
       "      <td>2197.07</td>\n",
       "      <td>0.6120</td>\n",
       "      <td>1.000</td>\n",
       "      <td>473.96</td>\n",
       "      <td>128.05</td>\n",
       "      <td>0.2675</td>\n",
       "      <td>2.906</td>\n",
       "      <td>3.697</td>\n",
       "      <td>...</td>\n",
       "      <td>130.58</td>\n",
       "      <td>2199.99</td>\n",
       "      <td>0.6207</td>\n",
       "      <td>1.007</td>\n",
       "      <td>468.30</td>\n",
       "      <td>127.72</td>\n",
       "      <td>0.2724</td>\n",
       "      <td>2.821</td>\n",
       "      <td>3.741</td>\n",
       "      <td>0.2043</td>\n",
       "    </tr>\n",
       "    <tr>\n",
       "      <th>2021-07-26</th>\n",
       "      <td>40553.85</td>\n",
       "      <td>135.77</td>\n",
       "      <td>2430.27</td>\n",
       "      <td>0.6780</td>\n",
       "      <td>1.089</td>\n",
       "      <td>517.81</td>\n",
       "      <td>140.36</td>\n",
       "      <td>0.2845</td>\n",
       "      <td>3.116</td>\n",
       "      <td>3.998</td>\n",
       "      <td>...</td>\n",
       "      <td>131.79</td>\n",
       "      <td>2197.07</td>\n",
       "      <td>0.6120</td>\n",
       "      <td>1.000</td>\n",
       "      <td>473.96</td>\n",
       "      <td>128.05</td>\n",
       "      <td>0.2675</td>\n",
       "      <td>2.906</td>\n",
       "      <td>3.697</td>\n",
       "      <td>0.2005</td>\n",
       "    </tr>\n",
       "    <tr>\n",
       "      <th>2021-07-27</th>\n",
       "      <td>39535.50</td>\n",
       "      <td>139.34</td>\n",
       "      <td>2319.63</td>\n",
       "      <td>0.6527</td>\n",
       "      <td>1.002</td>\n",
       "      <td>503.89</td>\n",
       "      <td>135.14</td>\n",
       "      <td>0.2702</td>\n",
       "      <td>2.930</td>\n",
       "      <td>3.788</td>\n",
       "      <td>...</td>\n",
       "      <td>135.77</td>\n",
       "      <td>2430.27</td>\n",
       "      <td>0.6780</td>\n",
       "      <td>1.089</td>\n",
       "      <td>517.81</td>\n",
       "      <td>140.36</td>\n",
       "      <td>0.2845</td>\n",
       "      <td>3.116</td>\n",
       "      <td>3.998</td>\n",
       "      <td>0.2329</td>\n",
       "    </tr>\n",
       "    <tr>\n",
       "      <th>2021-07-28</th>\n",
       "      <td>40906.09</td>\n",
       "      <td>136.70</td>\n",
       "      <td>2346.53</td>\n",
       "      <td>0.7526</td>\n",
       "      <td>1.022</td>\n",
       "      <td>519.04</td>\n",
       "      <td>141.96</td>\n",
       "      <td>0.2815</td>\n",
       "      <td>2.899</td>\n",
       "      <td>4.014</td>\n",
       "      <td>...</td>\n",
       "      <td>139.34</td>\n",
       "      <td>2319.63</td>\n",
       "      <td>0.6527</td>\n",
       "      <td>1.002</td>\n",
       "      <td>503.89</td>\n",
       "      <td>135.14</td>\n",
       "      <td>0.2702</td>\n",
       "      <td>2.930</td>\n",
       "      <td>3.788</td>\n",
       "      <td>0.2094</td>\n",
       "    </tr>\n",
       "    <tr>\n",
       "      <th>2021-07-29</th>\n",
       "      <td>40633.62</td>\n",
       "      <td>141.90</td>\n",
       "      <td>2328.75</td>\n",
       "      <td>0.7389</td>\n",
       "      <td>1.001</td>\n",
       "      <td>512.49</td>\n",
       "      <td>140.90</td>\n",
       "      <td>0.2707</td>\n",
       "      <td>2.838</td>\n",
       "      <td>3.921</td>\n",
       "      <td>...</td>\n",
       "      <td>136.70</td>\n",
       "      <td>2346.53</td>\n",
       "      <td>0.7526</td>\n",
       "      <td>1.022</td>\n",
       "      <td>519.04</td>\n",
       "      <td>141.96</td>\n",
       "      <td>0.2815</td>\n",
       "      <td>2.899</td>\n",
       "      <td>4.014</td>\n",
       "      <td>0.2136</td>\n",
       "    </tr>\n",
       "  </tbody>\n",
       "</table>\n",
       "<p>100 rows × 22 columns</p>\n",
       "</div>"
      ],
      "text/plain": [
       "                 BTC     BSV      ETH     XRP   USDT     BCH     LTC     XLM  \\\n",
       "2021-04-21  56801.94  306.25  2469.05  1.4640  1.056  999.13  276.83  0.5382   \n",
       "2021-04-22  55458.61  292.72  2644.50  1.4180  1.073  971.08  289.68  0.5142   \n",
       "2021-04-23  52112.75  288.85  2441.96  1.1960  1.019  873.36  256.89  0.4576   \n",
       "2021-04-24  51223.86  245.77  2370.67  1.1720  1.024  840.94  241.73  0.4616   \n",
       "2021-04-25  50576.40  247.77  2357.02  1.1570  1.031  806.63  235.74  0.4448   \n",
       "...              ...     ...      ...     ...    ...     ...     ...     ...   \n",
       "2021-07-25  35382.63  131.79  2197.07  0.6120  1.000  473.96  128.05  0.2675   \n",
       "2021-07-26  40553.85  135.77  2430.27  0.6780  1.089  517.81  140.36  0.2845   \n",
       "2021-07-27  39535.50  139.34  2319.63  0.6527  1.002  503.89  135.14  0.2702   \n",
       "2021-07-28  40906.09  136.70  2346.53  0.7526  1.022  519.04  141.96  0.2815   \n",
       "2021-07-29  40633.62  141.90  2328.75  0.7389  1.001  512.49  140.90  0.2707   \n",
       "\n",
       "              XTZ    EOS  ...  BSV_lag1  ETH_lag1  XRP_lag1  USDT_lag1  \\\n",
       "2021-04-21  5.834  6.848  ...    318.64   2348.17    1.4470      1.012   \n",
       "2021-04-22  5.757  6.817  ...    306.25   2469.05    1.4640      1.056   \n",
       "2021-04-23  5.069  5.991  ...    292.72   2644.50    1.4180      1.073   \n",
       "2021-04-24  4.828  5.595  ...    288.85   2441.96    1.1960      1.019   \n",
       "2021-04-25  4.795  5.460  ...    245.77   2370.67    1.1720      1.024   \n",
       "...           ...    ...  ...       ...       ...       ...        ...   \n",
       "2021-07-25  2.906  3.697  ...    130.58   2199.99    0.6207      1.007   \n",
       "2021-07-26  3.116  3.998  ...    131.79   2197.07    0.6120      1.000   \n",
       "2021-07-27  2.930  3.788  ...    135.77   2430.27    0.6780      1.089   \n",
       "2021-07-28  2.899  4.014  ...    139.34   2319.63    0.6527      1.002   \n",
       "2021-07-29  2.838  3.921  ...    136.70   2346.53    0.7526      1.022   \n",
       "\n",
       "            BCH_lag1  LTC_lag1  XLM_lag1  XTZ_lag1  EOS_lag1  DOGE_lag1  \n",
       "2021-04-21    973.09    274.67    0.5310     5.713     6.854     0.4233  \n",
       "2021-04-22    999.13    276.83    0.5382     5.834     6.848     0.3474  \n",
       "2021-04-23    971.08    289.68    0.5142     5.757     6.817     0.3091  \n",
       "2021-04-24    873.36    256.89    0.4576     5.069     5.991     0.2691  \n",
       "2021-04-25    840.94    241.73    0.4616     4.828     5.595     0.2901  \n",
       "...              ...       ...       ...       ...       ...        ...  \n",
       "2021-07-25    468.30    127.72    0.2724     2.821     3.741     0.2043  \n",
       "2021-07-26    473.96    128.05    0.2675     2.906     3.697     0.2005  \n",
       "2021-07-27    517.81    140.36    0.2845     3.116     3.998     0.2329  \n",
       "2021-07-28    503.89    135.14    0.2702     2.930     3.788     0.2094  \n",
       "2021-07-29    519.04    141.96    0.2815     2.899     4.014     0.2136  \n",
       "\n",
       "[100 rows x 22 columns]"
      ]
     },
     "execution_count": 7,
     "metadata": {},
     "output_type": "execute_result"
    }
   ],
   "source": [
    "coins_lagged"
   ]
  },
  {
   "cell_type": "code",
   "execution_count": 8,
   "metadata": {},
   "outputs": [],
   "source": [
    "coins_lagged.to_csv('cryto_prices_data.csv', index_label='time')"
   ]
  },
  {
   "cell_type": "code",
   "execution_count": 9,
   "metadata": {},
   "outputs": [],
   "source": [
    "df = pd.read_csv('cryto_prices_data.csv', index_col='time')"
   ]
  },
  {
   "cell_type": "code",
   "execution_count": 10,
   "metadata": {},
   "outputs": [],
   "source": [
    "df.index = pd.to_datetime(df.index)\n",
    "df.index = df.index.normalize()"
   ]
  },
  {
   "cell_type": "code",
   "execution_count": 11,
   "metadata": {},
   "outputs": [],
   "source": [
    "from sklearn.preprocessing import StandardScaler\n",
    "import matplotlib.pyplot as plt"
   ]
  },
  {
   "cell_type": "code",
   "execution_count": 12,
   "metadata": {},
   "outputs": [],
   "source": [
    "sc_x = StandardScaler()\n",
    "df_scaled = pd.DataFrame(sc_x.fit_transform(df), index=df.index, columns=df.columns)"
   ]
  },
  {
   "cell_type": "code",
   "execution_count": 13,
   "metadata": {},
   "outputs": [
    {
     "data": {
      "text/plain": [
       "[<matplotlib.lines.Line2D at 0x7fa8260d42e0>]"
      ]
     },
     "execution_count": 13,
     "metadata": {},
     "output_type": "execute_result"
    },
    {
     "data": {
      "image/png": "[encoded data removed]",
      "text/plain": [
       "<Figure size 432x288 with 1 Axes>"
      ]
     },
     "metadata": {
      "needs_background": "light"
     },
     "output_type": "display_data"
    }
   ],
   "source": [
    "plt.plot(df_scaled.index, df_scaled['BSV'], color='green')\n",
    "plt.plot(df_scaled.index, df_scaled['BTC'], color='red')\n",
    "plt.plot(df_scaled.index, df_scaled['ETH'], color='blue')\n",
    "plt.plot(df_scaled.index, df_scaled['XRP'], color='black')\n",
    "plt.plot(df_scaled.index, df_scaled['USDT'], color='yellow')\n",
    "plt.plot(df_scaled.index, df_scaled['BCH'], color='magenta')\n",
    "plt.plot(df_scaled.index, df_scaled['LTC'], color='cyan')\n",
    "plt.plot(df_scaled.index, df_scaled['XLM'], color='brown')\n",
    "plt.plot(df_scaled.index, df_scaled['XTZ'], color='orange')\n",
    "plt.plot(df_scaled.index, df_scaled['EOS'], color='pink')"
   ]
  },
  {
   "cell_type": "code",
   "execution_count": 18,
   "metadata": {},
   "outputs": [],
   "source": [
    "split = int(int(lim)/2)"
   ]
  },
  {
   "cell_type": "code",
   "execution_count": 19,
   "metadata": {},
   "outputs": [],
   "source": [
    "Ytrain = pd.DataFrame(df_scaled[:split]['BTC'])\n",
    "Ytest = pd.DataFrame(df_scaled[split:]['BTC'])"
   ]
  },
  {
   "cell_type": "code",
   "execution_count": 20,
   "metadata": {},
   "outputs": [],
   "source": [
    "X = df_scaled[['BTC_lag1', 'BSV_lag1', 'ETH_lag1', 'XRP_lag1', 'USDT_lag1', 'BCH_lag1', 'LTC_lag1', 'XLM_lag1', 'XTZ_lag1', 'EOS_lag1','DOGE_lag1']]"
   ]
  },
  {
   "cell_type": "code",
   "execution_count": 21,
   "metadata": {},
   "outputs": [],
   "source": [
    "from sklearn.linear_model import ElasticNet"
   ]
  },
  {
   "cell_type": "code",
   "execution_count": 22,
   "metadata": {},
   "outputs": [],
   "source": [
    "en = ElasticNet(alpha=0.1, normalize=False)"
   ]
  },
  {
   "cell_type": "code",
   "execution_count": 23,
   "metadata": {},
   "outputs": [
    {
     "data": {
      "text/plain": [
       "ElasticNet(alpha=0.1)"
      ]
     },
     "execution_count": 23,
     "metadata": {},
     "output_type": "execute_result"
    }
   ],
   "source": [
    "t=en.fit(X[:split], Ytrain)\n",
    "t"
   ]
  },
  {
   "cell_type": "code",
   "execution_count": 25,
   "metadata": {},
   "outputs": [
    {
     "data": {
      "text/plain": [
       "[0.7294321133762405,\n",
       " 0.15979565282867667,\n",
       " -0.0,\n",
       " 0.0,\n",
       " -0.07330637258764833,\n",
       " 0.0,\n",
       " 0.0,\n",
       " -0.0,\n",
       " 0.0,\n",
       " -0.0,\n",
       " -0.0]"
      ]
     },
     "execution_count": 25,
     "metadata": {},
     "output_type": "execute_result"
    }
   ],
   "source": [
    "coef = list(en.coef_)\n",
    "coef"
   ]
  },
  {
   "cell_type": "code",
   "execution_count": 26,
   "metadata": {},
   "outputs": [
    {
     "name": "stdout",
     "output_type": "stream",
     "text": [
      "BTC_lag1 : 0.7294321133762405\n",
      "BSV_lag1 : 0.15979565282867667\n",
      "ETH_lag1 : -0.0\n",
      "XRP_lag1 : 0.0\n",
      "USDT_lag1 : -0.07330637258764833\n",
      "BCH_lag1 : 0.0\n",
      "LTC_lag1 : 0.0\n",
      "XLM_lag1 : -0.0\n",
      "XTZ_lag1 : 0.0\n",
      "EOS_lag1 : -0.0\n",
      "DOGE_lag1 : -0.0\n"
     ]
    }
   ],
   "source": [
    "count = 0\n",
    "for i in X.columns:\n",
    "    print(i, ':', coef[count])\n",
    "    count = count + 1"
   ]
  },
  {
   "cell_type": "code",
   "execution_count": null,
   "metadata": {},
   "outputs": [],
   "source": [
    "# From the above values of the coefficients it is clear that the application of ElasticNet has reduced a model with multiple variables into a smaller model with only two impacting variables.Here only USDT and BSV have non-zero beta values which confirms that they are only variables in our list that impact the price of Bitcoin."
   ]
  },
  {
   "cell_type": "code",
   "execution_count": 27,
   "metadata": {},
   "outputs": [
    {
     "data": {
      "text/plain": [
       "array([ 1.55429423,  1.43123078,  1.2688322 ,  1.08577003,  0.92786801,\n",
       "        0.86698708,  1.25373116,  1.37658389,  1.43577341,  1.31556721,\n",
       "        1.655998  ,  1.70688041,  1.64596556,  1.80870071,  1.49386441,\n",
       "        1.85691422,  1.84882176,  1.87032654,  1.90002544,  1.81717859,\n",
       "        1.79975343,  1.69980812,  1.45568081,  0.97271699,  1.12747138,\n",
       "        0.8316428 ,  0.84765844,  0.56644983,  0.52113366,  0.02721702,\n",
       "        0.09863941, -0.22544927, -0.30235214, -0.46680151, -0.07523697,\n",
       "       -0.09909731,  0.00432715, -0.10803112, -0.4148589 , -0.51624565,\n",
       "       -0.4241163 , -0.27053518, -0.30176764, -0.248378  , -0.09286295,\n",
       "       -0.22836973, -0.35269409, -0.36701156, -0.50408013, -0.59531341])"
      ]
     },
     "execution_count": 27,
     "metadata": {},
     "output_type": "execute_result"
    }
   ],
   "source": [
    "t.predict(X[:split])"
   ]
  },
  {
   "cell_type": "code",
   "execution_count": 32,
   "metadata": {},
   "outputs": [
    {
     "data": {
      "text/plain": [
       "time\n",
       "2021-04-21    1.472638\n",
       "2021-04-22    1.349575\n",
       "2021-04-23    1.187176\n",
       "2021-04-24    1.004114\n",
       "2021-04-25    0.846212\n",
       "                ...   \n",
       "2021-07-25   -0.680004\n",
       "2021-07-26   -0.595960\n",
       "2021-07-27   -0.326274\n",
       "2021-07-28   -0.250539\n",
       "2021-07-29   -0.179449\n",
       "Freq: D, Length: 100, dtype: float64"
      ]
     },
     "execution_count": 32,
     "metadata": {},
     "output_type": "execute_result"
    }
   ],
   "source": [
    "BTC_Fitted = X.dot(coef)\n",
    "BTC_Fitted"
   ]
  },
  {
   "cell_type": "code",
   "execution_count": 33,
   "metadata": {},
   "outputs": [
    {
     "data": {
      "text/html": [
       "<div>\n",
       "<style scoped>\n",
       "    .dataframe tbody tr th:only-of-type {\n",
       "        vertical-align: middle;\n",
       "    }\n",
       "\n",
       "    .dataframe tbody tr th {\n",
       "        vertical-align: top;\n",
       "    }\n",
       "\n",
       "    .dataframe thead th {\n",
       "        text-align: right;\n",
       "    }\n",
       "</style>\n",
       "<table border=\"1\" class=\"dataframe\">\n",
       "  <thead>\n",
       "    <tr style=\"text-align: right;\">\n",
       "      <th></th>\n",
       "      <th>BTC</th>\n",
       "    </tr>\n",
       "    <tr>\n",
       "      <th>time</th>\n",
       "      <th></th>\n",
       "    </tr>\n",
       "  </thead>\n",
       "  <tbody>\n",
       "    <tr>\n",
       "      <th>2021-04-21</th>\n",
       "      <td>1.684803</td>\n",
       "    </tr>\n",
       "    <tr>\n",
       "      <th>2021-04-22</th>\n",
       "      <td>1.533954</td>\n",
       "    </tr>\n",
       "    <tr>\n",
       "      <th>2021-04-23</th>\n",
       "      <td>1.158231</td>\n",
       "    </tr>\n",
       "    <tr>\n",
       "      <th>2021-04-24</th>\n",
       "      <td>1.058413</td>\n",
       "    </tr>\n",
       "    <tr>\n",
       "      <th>2021-04-25</th>\n",
       "      <td>0.985707</td>\n",
       "    </tr>\n",
       "    <tr>\n",
       "      <th>...</th>\n",
       "      <td>...</td>\n",
       "    </tr>\n",
       "    <tr>\n",
       "      <th>2021-07-25</th>\n",
       "      <td>-0.720476</td>\n",
       "    </tr>\n",
       "    <tr>\n",
       "      <th>2021-07-26</th>\n",
       "      <td>-0.139774</td>\n",
       "    </tr>\n",
       "    <tr>\n",
       "      <th>2021-07-27</th>\n",
       "      <td>-0.254130</td>\n",
       "    </tr>\n",
       "    <tr>\n",
       "      <th>2021-07-28</th>\n",
       "      <td>-0.100220</td>\n",
       "    </tr>\n",
       "    <tr>\n",
       "      <th>2021-07-29</th>\n",
       "      <td>-0.130817</td>\n",
       "    </tr>\n",
       "  </tbody>\n",
       "</table>\n",
       "<p>100 rows × 1 columns</p>\n",
       "</div>"
      ],
      "text/plain": [
       "                 BTC\n",
       "time                \n",
       "2021-04-21  1.684803\n",
       "2021-04-22  1.533954\n",
       "2021-04-23  1.158231\n",
       "2021-04-24  1.058413\n",
       "2021-04-25  0.985707\n",
       "...              ...\n",
       "2021-07-25 -0.720476\n",
       "2021-07-26 -0.139774\n",
       "2021-07-27 -0.254130\n",
       "2021-07-28 -0.100220\n",
       "2021-07-29 -0.130817\n",
       "\n",
       "[100 rows x 1 columns]"
      ]
     },
     "execution_count": 33,
     "metadata": {},
     "output_type": "execute_result"
    }
   ],
   "source": [
    "BTC_actual = df_scaled[['BTC']]\n",
    "BTC_actual"
   ]
  },
  {
   "cell_type": "code",
   "execution_count": 35,
   "metadata": {},
   "outputs": [
    {
     "data": {
      "text/plain": [
       "[<matplotlib.lines.Line2D at 0x7fa824109fa0>]"
      ]
     },
     "execution_count": 35,
     "metadata": {},
     "output_type": "execute_result"
    },
    {
     "data": {
      "image/png": "[encoded data removed]",
      "text/plain": [
       "<Figure size 432x288 with 1 Axes>"
      ]
     },
     "metadata": {
      "needs_background": "light"
     },
     "output_type": "display_data"
    }
   ],
   "source": [
    "plt.plot(df_scaled.index, BTC_Fitted, color='red')\n",
    "plt.plot(df_scaled.index, BTC_actual, color='green')"
   ]
  },
  {
   "cell_type": "code",
   "execution_count": null,
   "metadata": {},
   "outputs": [],
   "source": [
    "# Graphical representation to show Actual vs Fitted values of BTC."
   ]
  },
  {
   "cell_type": "code",
   "execution_count": 56,
   "metadata": {},
   "outputs": [],
   "source": [
    "y = BTC_actual\n",
    "X = BTC_Fitted"
   ]
  },
  {
   "cell_type": "code",
   "execution_count": 57,
   "metadata": {},
   "outputs": [],
   "source": [
    "y = y.values.reshape(-1,1)\n",
    "X = X.values.reshape(-1,1)"
   ]
  },
  {
   "cell_type": "code",
   "execution_count": 58,
   "metadata": {},
   "outputs": [],
   "source": [
    "sample_size = len(df_scaled)"
   ]
  },
  {
   "cell_type": "code",
   "execution_count": 59,
   "metadata": {},
   "outputs": [],
   "source": [
    "squaredresidual = np.square(X-y)"
   ]
  },
  {
   "cell_type": "code",
   "execution_count": 60,
   "metadata": {},
   "outputs": [],
   "source": [
    "import numpy as np"
   ]
  },
  {
   "cell_type": "code",
   "execution_count": 61,
   "metadata": {},
   "outputs": [
    {
     "data": {
      "text/plain": [
       "3.5382963425849296"
      ]
     },
     "execution_count": 61,
     "metadata": {},
     "output_type": "execute_result"
    }
   ],
   "source": [
    "sum_squaredresidual = np.sum(squaredresidual)\n",
    "sum_squaredresidual"
   ]
  },
  {
   "cell_type": "code",
   "execution_count": 62,
   "metadata": {},
   "outputs": [
    {
     "data": {
      "text/plain": [
       "0.0353829634258493"
      ]
     },
     "execution_count": 62,
     "metadata": {},
     "output_type": "execute_result"
    }
   ],
   "source": [
    "MSE = sum_squaredresidual/sample_size\n",
    "MSE"
   ]
  },
  {
   "cell_type": "code",
   "execution_count": 63,
   "metadata": {},
   "outputs": [],
   "source": [
    "import numpy as np\n",
    "from sklearn.linear_model import LinearRegression"
   ]
  },
  {
   "cell_type": "code",
   "execution_count": 64,
   "metadata": {},
   "outputs": [],
   "source": [
    "X = df_scaled[['BSV_lag1']]"
   ]
  },
  {
   "cell_type": "code",
   "execution_count": 65,
   "metadata": {},
   "outputs": [],
   "source": [
    "y = df_scaled['BTC']"
   ]
  },
  {
   "cell_type": "code",
   "execution_count": 66,
   "metadata": {},
   "outputs": [],
   "source": [
    "y = y.values.reshape(-1,1)\n",
    "X = X.values.reshape(-1,1)"
   ]
  },
  {
   "cell_type": "code",
   "execution_count": 67,
   "metadata": {},
   "outputs": [],
   "source": [
    "lr = LinearRegression()"
   ]
  },
  {
   "cell_type": "code",
   "execution_count": 68,
   "metadata": {},
   "outputs": [
    {
     "name": "stdout",
     "output_type": "stream",
     "text": [
      "[3.2308996e-16] [[0.93905005]]\n"
     ]
    }
   ],
   "source": [
    "lr.fit(X,y)\n",
    "print(lr.intercept_, lr.coef_)"
   ]
  },
  {
   "cell_type": "code",
   "execution_count": 69,
   "metadata": {},
   "outputs": [],
   "source": [
    "forecast_BTC = lr.predict(X)"
   ]
  },
  {
   "cell_type": "code",
   "execution_count": 70,
   "metadata": {},
   "outputs": [],
   "source": [
    "squared_residuals = np.square(forecast_BTC-y)"
   ]
  },
  {
   "cell_type": "code",
   "execution_count": 71,
   "metadata": {},
   "outputs": [
    {
     "data": {
      "text/plain": [
       "0.11818500147813042"
      ]
     },
     "execution_count": 71,
     "metadata": {},
     "output_type": "execute_result"
    }
   ],
   "source": [
    "MSE = (np.sum(squared_residuals))/len(y)\n",
    "MSE"
   ]
  },
  {
   "cell_type": "code",
   "execution_count": null,
   "metadata": {},
   "outputs": [],
   "source": [
    "# MSE for ElasticNet is 0.0353829634258493. Where as MSE for Linear Regression is 0.11818500147813042. Smaller the value of the MSE, better will be estimated model. in this case Elastic Net has smaller MSE and so it is a better choice than simple linear regression model.\n",
    "# We can improve the ElasticNet model ie. reduce the value of the MSE if we take a much bigger sample size of the variables. I have taken here 100 values. The more we increase the sample size the better will be the fit. Also the cryptocurrency variables that we have randomly taken can impact the estimated model. If our model has more variables that impact the price of BTC the ElasticNet MSE value will also improve, ie. will decrease.\n"
   ]
  }
 ],
 "metadata": {
  "kernelspec": {
   "display_name": "Python 3",
   "language": "python",
   "name": "python3"
  },
  "language_info": {
   "codemirror_mode": {
    "name": "ipython",
    "version": 3
   },
   "file_extension": ".py",
   "mimetype": "text/x-python",
   "name": "python",
   "nbconvert_exporter": "python",
   "pygments_lexer": "ipython3",
   "version": "3.8.5"
  }
 },
 "nbformat": 4,
 "nbformat_minor": 4
}
